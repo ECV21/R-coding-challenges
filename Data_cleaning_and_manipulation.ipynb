{
  "nbformat": 4,
  "nbformat_minor": 0,
  "metadata": {
    "colab": {
      "provenance": [],
      "authorship_tag": "ABX9TyPkG/lu0g+fYIxmu3/w+0K8",
      "include_colab_link": true
    },
    "kernelspec": {
      "name": "ir",
      "display_name": "R"
    },
    "language_info": {
      "name": "R"
    }
  },
  "cells": [
    {
      "cell_type": "markdown",
      "metadata": {
        "id": "view-in-github",
        "colab_type": "text"
      },
      "source": [
        "<a href=\"https://colab.research.google.com/github/ECV21/R-coding-challenges/blob/main/Data_cleaning_and_manipulation.ipynb\" target=\"_parent\"><img src=\"https://colab.research.google.com/assets/colab-badge.svg\" alt=\"Open In Colab\"/></a>"
      ]
    },
    {
      "cell_type": "markdown",
      "source": [
        "#Data cleaning and Manipulation\n",
        "\n",
        "To be efficient analysts, we should have good tools for reformatting dats for our needs so we can do our actual owrk like making plots and fitting models."
      ],
      "metadata": {
        "id": "OCdL1M_MtTar"
      }
    },
    {
      "cell_type": "markdown",
      "source": [
        " To demonstrate, we’ll be working with dataset from ADF&G containing commercial catch data from 1878-1997. https://knb.ecoinformatics.org/#view/df35b.304.2."
      ],
      "metadata": {
        "id": "XR_kNjOOuTTn"
      }
    },
    {
      "cell_type": "markdown",
      "source": [
        "#Carga de librería"
      ],
      "metadata": {
        "id": "3Kymyf6ZuY2O"
      }
    },
    {
      "cell_type": "code",
      "source": [
        "library(dplyr)\n",
        "library(tidyr)"
      ],
      "metadata": {
        "colab": {
          "base_uri": "https://localhost:8080/"
        },
        "id": "oGakO_FcuYEm",
        "outputId": "8cc21c22-851e-45ed-d69a-295d38050f2f"
      },
      "execution_count": null,
      "outputs": [
        {
          "output_type": "stream",
          "name": "stderr",
          "text": [
            "\n",
            "Attaching package: ‘dplyr’\n",
            "\n",
            "\n",
            "The following objects are masked from ‘package:stats’:\n",
            "\n",
            "    filter, lag\n",
            "\n",
            "\n",
            "The following objects are masked from ‘package:base’:\n",
            "\n",
            "    intersect, setdiff, setequal, union\n",
            "\n",
            "\n"
          ]
        }
      ]
    },
    {
      "cell_type": "markdown",
      "source": [
        "#Carga de datos"
      ],
      "metadata": {
        "id": "JdwGs_5dvbJb"
      }
    },
    {
      "cell_type": "code",
      "source": [
        "original_data <- read.csv(url(\"https://knb.ecoinformatics.org/knb/d1/mn/v2/object/df35b.302.1\", method = \"libcurl\"),\n",
        "                    stringsAsFactors = FALSE)\n",
        "head(original_data)"
      ],
      "metadata": {
        "colab": {
          "base_uri": "https://localhost:8080/",
          "height": 286
        },
        "id": "FBX3nKSTuUJv",
        "outputId": "80825861-e36d-43ba-dd10-308e974b2d8e"
      },
      "execution_count": null,
      "outputs": [
        {
          "output_type": "display_data",
          "data": {
            "text/html": [
              "<table class=\"dataframe\">\n",
              "<caption>A data.frame: 6 × 9</caption>\n",
              "<thead>\n",
              "\t<tr><th></th><th scope=col>Region</th><th scope=col>Year</th><th scope=col>Chinook</th><th scope=col>Sockeye</th><th scope=col>Coho</th><th scope=col>Pink</th><th scope=col>Chum</th><th scope=col>All</th><th scope=col>notesRegCode</th></tr>\n",
              "\t<tr><th></th><th scope=col>&lt;chr&gt;</th><th scope=col>&lt;int&gt;</th><th scope=col>&lt;chr&gt;</th><th scope=col>&lt;int&gt;</th><th scope=col>&lt;int&gt;</th><th scope=col>&lt;int&gt;</th><th scope=col>&lt;int&gt;</th><th scope=col>&lt;int&gt;</th><th scope=col>&lt;chr&gt;</th></tr>\n",
              "</thead>\n",
              "<tbody>\n",
              "\t<tr><th scope=row>1</th><td>SSE</td><td>1886</td><td>0</td><td>  5</td><td> 0</td><td> 0</td><td>0</td><td>  5</td><td></td></tr>\n",
              "\t<tr><th scope=row>2</th><td>SSE</td><td>1887</td><td>0</td><td>155</td><td> 0</td><td> 0</td><td>0</td><td>155</td><td></td></tr>\n",
              "\t<tr><th scope=row>3</th><td>SSE</td><td>1888</td><td>0</td><td>224</td><td>16</td><td> 0</td><td>0</td><td>240</td><td></td></tr>\n",
              "\t<tr><th scope=row>4</th><td>SSE</td><td>1889</td><td>0</td><td>182</td><td>11</td><td>92</td><td>0</td><td>285</td><td></td></tr>\n",
              "\t<tr><th scope=row>5</th><td>SSE</td><td>1890</td><td>0</td><td>251</td><td>42</td><td> 0</td><td>0</td><td>292</td><td></td></tr>\n",
              "\t<tr><th scope=row>6</th><td>SSE</td><td>1891</td><td>0</td><td>274</td><td>24</td><td> 0</td><td>0</td><td>298</td><td></td></tr>\n",
              "</tbody>\n",
              "</table>\n"
            ],
            "text/markdown": "\nA data.frame: 6 × 9\n\n| <!--/--> | Region &lt;chr&gt; | Year &lt;int&gt; | Chinook &lt;chr&gt; | Sockeye &lt;int&gt; | Coho &lt;int&gt; | Pink &lt;int&gt; | Chum &lt;int&gt; | All &lt;int&gt; | notesRegCode &lt;chr&gt; |\n|---|---|---|---|---|---|---|---|---|---|\n| 1 | SSE | 1886 | 0 |   5 |  0 |  0 | 0 |   5 | <!----> |\n| 2 | SSE | 1887 | 0 | 155 |  0 |  0 | 0 | 155 | <!----> |\n| 3 | SSE | 1888 | 0 | 224 | 16 |  0 | 0 | 240 | <!----> |\n| 4 | SSE | 1889 | 0 | 182 | 11 | 92 | 0 | 285 | <!----> |\n| 5 | SSE | 1890 | 0 | 251 | 42 |  0 | 0 | 292 | <!----> |\n| 6 | SSE | 1891 | 0 | 274 | 24 |  0 | 0 | 298 | <!----> |\n\n",
            "text/latex": "A data.frame: 6 × 9\n\\begin{tabular}{r|lllllllll}\n  & Region & Year & Chinook & Sockeye & Coho & Pink & Chum & All & notesRegCode\\\\\n  & <chr> & <int> & <chr> & <int> & <int> & <int> & <int> & <int> & <chr>\\\\\n\\hline\n\t1 & SSE & 1886 & 0 &   5 &  0 &  0 & 0 &   5 & \\\\\n\t2 & SSE & 1887 & 0 & 155 &  0 &  0 & 0 & 155 & \\\\\n\t3 & SSE & 1888 & 0 & 224 & 16 &  0 & 0 & 240 & \\\\\n\t4 & SSE & 1889 & 0 & 182 & 11 & 92 & 0 & 285 & \\\\\n\t5 & SSE & 1890 & 0 & 251 & 42 &  0 & 0 & 292 & \\\\\n\t6 & SSE & 1891 & 0 & 274 & 24 &  0 & 0 & 298 & \\\\\n\\end{tabular}\n",
            "text/plain": [
              "  Region Year Chinook Sockeye Coho Pink Chum All notesRegCode\n",
              "1 SSE    1886 0         5      0    0   0      5             \n",
              "2 SSE    1887 0       155      0    0   0    155             \n",
              "3 SSE    1888 0       224     16    0   0    240             \n",
              "4 SSE    1889 0       182     11   92   0    285             \n",
              "5 SSE    1890 0       251     42    0   0    292             \n",
              "6 SSE    1891 0       274     24    0   0    298             "
            ]
          },
          "metadata": {}
        }
      ]
    },
    {
      "cell_type": "markdown",
      "source": [
        "#Selecting/removing columns"
      ],
      "metadata": {
        "id": "k7YboPzRxPrp"
      }
    },
    {
      "cell_type": "code",
      "source": [
        "#Let's select only the columns we want:\n",
        "\n",
        "original_data %>%\n",
        "  select(Region, Year, Chinook, Sockeye, Coho, Pink, Chum) %>%\n",
        "  head()"
      ],
      "metadata": {
        "colab": {
          "base_uri": "https://localhost:8080/",
          "height": 286
        },
        "id": "y-V_EzIOvXgz",
        "outputId": "84557c5b-1929-42a5-9abb-f83e1e2326ad"
      },
      "execution_count": null,
      "outputs": [
        {
          "output_type": "display_data",
          "data": {
            "text/html": [
              "<table class=\"dataframe\">\n",
              "<caption>A data.frame: 6 × 7</caption>\n",
              "<thead>\n",
              "\t<tr><th></th><th scope=col>Region</th><th scope=col>Year</th><th scope=col>Chinook</th><th scope=col>Sockeye</th><th scope=col>Coho</th><th scope=col>Pink</th><th scope=col>Chum</th></tr>\n",
              "\t<tr><th></th><th scope=col>&lt;chr&gt;</th><th scope=col>&lt;int&gt;</th><th scope=col>&lt;chr&gt;</th><th scope=col>&lt;int&gt;</th><th scope=col>&lt;int&gt;</th><th scope=col>&lt;int&gt;</th><th scope=col>&lt;int&gt;</th></tr>\n",
              "</thead>\n",
              "<tbody>\n",
              "\t<tr><th scope=row>1</th><td>SSE</td><td>1886</td><td>0</td><td>  5</td><td> 0</td><td> 0</td><td>0</td></tr>\n",
              "\t<tr><th scope=row>2</th><td>SSE</td><td>1887</td><td>0</td><td>155</td><td> 0</td><td> 0</td><td>0</td></tr>\n",
              "\t<tr><th scope=row>3</th><td>SSE</td><td>1888</td><td>0</td><td>224</td><td>16</td><td> 0</td><td>0</td></tr>\n",
              "\t<tr><th scope=row>4</th><td>SSE</td><td>1889</td><td>0</td><td>182</td><td>11</td><td>92</td><td>0</td></tr>\n",
              "\t<tr><th scope=row>5</th><td>SSE</td><td>1890</td><td>0</td><td>251</td><td>42</td><td> 0</td><td>0</td></tr>\n",
              "\t<tr><th scope=row>6</th><td>SSE</td><td>1891</td><td>0</td><td>274</td><td>24</td><td> 0</td><td>0</td></tr>\n",
              "</tbody>\n",
              "</table>\n"
            ],
            "text/markdown": "\nA data.frame: 6 × 7\n\n| <!--/--> | Region &lt;chr&gt; | Year &lt;int&gt; | Chinook &lt;chr&gt; | Sockeye &lt;int&gt; | Coho &lt;int&gt; | Pink &lt;int&gt; | Chum &lt;int&gt; |\n|---|---|---|---|---|---|---|---|\n| 1 | SSE | 1886 | 0 |   5 |  0 |  0 | 0 |\n| 2 | SSE | 1887 | 0 | 155 |  0 |  0 | 0 |\n| 3 | SSE | 1888 | 0 | 224 | 16 |  0 | 0 |\n| 4 | SSE | 1889 | 0 | 182 | 11 | 92 | 0 |\n| 5 | SSE | 1890 | 0 | 251 | 42 |  0 | 0 |\n| 6 | SSE | 1891 | 0 | 274 | 24 |  0 | 0 |\n\n",
            "text/latex": "A data.frame: 6 × 7\n\\begin{tabular}{r|lllllll}\n  & Region & Year & Chinook & Sockeye & Coho & Pink & Chum\\\\\n  & <chr> & <int> & <chr> & <int> & <int> & <int> & <int>\\\\\n\\hline\n\t1 & SSE & 1886 & 0 &   5 &  0 &  0 & 0\\\\\n\t2 & SSE & 1887 & 0 & 155 &  0 &  0 & 0\\\\\n\t3 & SSE & 1888 & 0 & 224 & 16 &  0 & 0\\\\\n\t4 & SSE & 1889 & 0 & 182 & 11 & 92 & 0\\\\\n\t5 & SSE & 1890 & 0 & 251 & 42 &  0 & 0\\\\\n\t6 & SSE & 1891 & 0 & 274 & 24 &  0 & 0\\\\\n\\end{tabular}\n",
            "text/plain": [
              "  Region Year Chinook Sockeye Coho Pink Chum\n",
              "1 SSE    1886 0         5      0    0   0   \n",
              "2 SSE    1887 0       155      0    0   0   \n",
              "3 SSE    1888 0       224     16    0   0   \n",
              "4 SSE    1889 0       182     11   92   0   \n",
              "5 SSE    1890 0       251     42    0   0   \n",
              "6 SSE    1891 0       274     24    0   0   "
            ]
          },
          "metadata": {}
        }
      ]
    },
    {
      "cell_type": "code",
      "source": [
        "#SELECT allows you to say which columns you DON'T want, by passing unquoted column names preceded by minus(-) signs\n",
        "original_data %>%\n",
        "  select(-All, -notesRegCode) %>%\n",
        "  head(15)"
      ],
      "metadata": {
        "colab": {
          "base_uri": "https://localhost:8080/",
          "height": 568
        },
        "id": "F9Tqlsn7xVfT",
        "outputId": "44fe29cd-7460-4ec9-9b03-7c88045dd1a2"
      },
      "execution_count": null,
      "outputs": [
        {
          "output_type": "display_data",
          "data": {
            "text/html": [
              "<table class=\"dataframe\">\n",
              "<caption>A data.frame: 15 × 7</caption>\n",
              "<thead>\n",
              "\t<tr><th></th><th scope=col>Region</th><th scope=col>Year</th><th scope=col>Chinook</th><th scope=col>Sockeye</th><th scope=col>Coho</th><th scope=col>Pink</th><th scope=col>Chum</th></tr>\n",
              "\t<tr><th></th><th scope=col>&lt;chr&gt;</th><th scope=col>&lt;int&gt;</th><th scope=col>&lt;chr&gt;</th><th scope=col>&lt;int&gt;</th><th scope=col>&lt;int&gt;</th><th scope=col>&lt;int&gt;</th><th scope=col>&lt;int&gt;</th></tr>\n",
              "</thead>\n",
              "<tbody>\n",
              "\t<tr><th scope=row>1</th><td>SSE</td><td>1886</td><td>0 </td><td>  5</td><td>  0</td><td>   0</td><td>0</td></tr>\n",
              "\t<tr><th scope=row>2</th><td>SSE</td><td>1887</td><td>0 </td><td>155</td><td>  0</td><td>   0</td><td>0</td></tr>\n",
              "\t<tr><th scope=row>3</th><td>SSE</td><td>1888</td><td>0 </td><td>224</td><td> 16</td><td>   0</td><td>0</td></tr>\n",
              "\t<tr><th scope=row>4</th><td>SSE</td><td>1889</td><td>0 </td><td>182</td><td> 11</td><td>  92</td><td>0</td></tr>\n",
              "\t<tr><th scope=row>5</th><td>SSE</td><td>1890</td><td>0 </td><td>251</td><td> 42</td><td>   0</td><td>0</td></tr>\n",
              "\t<tr><th scope=row>6</th><td>SSE</td><td>1891</td><td>0 </td><td>274</td><td> 24</td><td>   0</td><td>0</td></tr>\n",
              "\t<tr><th scope=row>7</th><td>SSE</td><td>1892</td><td>0 </td><td>207</td><td> 11</td><td>   8</td><td>0</td></tr>\n",
              "\t<tr><th scope=row>8</th><td>SSE</td><td>1893</td><td>0 </td><td>189</td><td>  1</td><td> 187</td><td>0</td></tr>\n",
              "\t<tr><th scope=row>9</th><td>SSE</td><td>1894</td><td>0 </td><td>253</td><td>  5</td><td> 529</td><td>0</td></tr>\n",
              "\t<tr><th scope=row>10</th><td>SSE</td><td>1895</td><td>3 </td><td>408</td><td>  8</td><td> 606</td><td>0</td></tr>\n",
              "\t<tr><th scope=row>11</th><td>SSE</td><td>1896</td><td>4 </td><td>989</td><td>192</td><td> 996</td><td>0</td></tr>\n",
              "\t<tr><th scope=row>12</th><td>SSE</td><td>1897</td><td>5 </td><td>791</td><td>161</td><td>2218</td><td>7</td></tr>\n",
              "\t<tr><th scope=row>13</th><td>SSE</td><td>1898</td><td>9 </td><td>708</td><td>132</td><td> 673</td><td>0</td></tr>\n",
              "\t<tr><th scope=row>14</th><td>SSE</td><td>1899</td><td>12</td><td>797</td><td>139</td><td>1545</td><td>1</td></tr>\n",
              "\t<tr><th scope=row>15</th><td>SSE</td><td>1900</td><td>0 </td><td>763</td><td> 84</td><td>2040</td><td>2</td></tr>\n",
              "</tbody>\n",
              "</table>\n"
            ],
            "text/markdown": "\nA data.frame: 15 × 7\n\n| <!--/--> | Region &lt;chr&gt; | Year &lt;int&gt; | Chinook &lt;chr&gt; | Sockeye &lt;int&gt; | Coho &lt;int&gt; | Pink &lt;int&gt; | Chum &lt;int&gt; |\n|---|---|---|---|---|---|---|---|\n| 1 | SSE | 1886 | 0  |   5 |   0 |    0 | 0 |\n| 2 | SSE | 1887 | 0  | 155 |   0 |    0 | 0 |\n| 3 | SSE | 1888 | 0  | 224 |  16 |    0 | 0 |\n| 4 | SSE | 1889 | 0  | 182 |  11 |   92 | 0 |\n| 5 | SSE | 1890 | 0  | 251 |  42 |    0 | 0 |\n| 6 | SSE | 1891 | 0  | 274 |  24 |    0 | 0 |\n| 7 | SSE | 1892 | 0  | 207 |  11 |    8 | 0 |\n| 8 | SSE | 1893 | 0  | 189 |   1 |  187 | 0 |\n| 9 | SSE | 1894 | 0  | 253 |   5 |  529 | 0 |\n| 10 | SSE | 1895 | 3  | 408 |   8 |  606 | 0 |\n| 11 | SSE | 1896 | 4  | 989 | 192 |  996 | 0 |\n| 12 | SSE | 1897 | 5  | 791 | 161 | 2218 | 7 |\n| 13 | SSE | 1898 | 9  | 708 | 132 |  673 | 0 |\n| 14 | SSE | 1899 | 12 | 797 | 139 | 1545 | 1 |\n| 15 | SSE | 1900 | 0  | 763 |  84 | 2040 | 2 |\n\n",
            "text/latex": "A data.frame: 15 × 7\n\\begin{tabular}{r|lllllll}\n  & Region & Year & Chinook & Sockeye & Coho & Pink & Chum\\\\\n  & <chr> & <int> & <chr> & <int> & <int> & <int> & <int>\\\\\n\\hline\n\t1 & SSE & 1886 & 0  &   5 &   0 &    0 & 0\\\\\n\t2 & SSE & 1887 & 0  & 155 &   0 &    0 & 0\\\\\n\t3 & SSE & 1888 & 0  & 224 &  16 &    0 & 0\\\\\n\t4 & SSE & 1889 & 0  & 182 &  11 &   92 & 0\\\\\n\t5 & SSE & 1890 & 0  & 251 &  42 &    0 & 0\\\\\n\t6 & SSE & 1891 & 0  & 274 &  24 &    0 & 0\\\\\n\t7 & SSE & 1892 & 0  & 207 &  11 &    8 & 0\\\\\n\t8 & SSE & 1893 & 0  & 189 &   1 &  187 & 0\\\\\n\t9 & SSE & 1894 & 0  & 253 &   5 &  529 & 0\\\\\n\t10 & SSE & 1895 & 3  & 408 &   8 &  606 & 0\\\\\n\t11 & SSE & 1896 & 4  & 989 & 192 &  996 & 0\\\\\n\t12 & SSE & 1897 & 5  & 791 & 161 & 2218 & 7\\\\\n\t13 & SSE & 1898 & 9  & 708 & 132 &  673 & 0\\\\\n\t14 & SSE & 1899 & 12 & 797 & 139 & 1545 & 1\\\\\n\t15 & SSE & 1900 & 0  & 763 &  84 & 2040 & 2\\\\\n\\end{tabular}\n",
            "text/plain": [
              "   Region Year Chinook Sockeye Coho Pink Chum\n",
              "1  SSE    1886 0         5       0     0 0   \n",
              "2  SSE    1887 0       155       0     0 0   \n",
              "3  SSE    1888 0       224      16     0 0   \n",
              "4  SSE    1889 0       182      11    92 0   \n",
              "5  SSE    1890 0       251      42     0 0   \n",
              "6  SSE    1891 0       274      24     0 0   \n",
              "7  SSE    1892 0       207      11     8 0   \n",
              "8  SSE    1893 0       189       1   187 0   \n",
              "9  SSE    1894 0       253       5   529 0   \n",
              "10 SSE    1895 3       408       8   606 0   \n",
              "11 SSE    1896 4       989     192   996 0   \n",
              "12 SSE    1897 5       791     161  2218 7   \n",
              "13 SSE    1898 9       708     132   673 0   \n",
              "14 SSE    1899 12      797     139  1545 1   \n",
              "15 SSE    1900 0       763      84  2040 2   "
            ]
          },
          "metadata": {}
        }
      ]
    },
    {
      "cell_type": "code",
      "source": [
        "#Let's save our changes by overwritting the original_data variable:\n",
        "\n",
        "original_data <- original_data %>%\n",
        "  select(-All, -notesRegCode)"
      ],
      "metadata": {
        "id": "fhYxzWMFxViU"
      },
      "execution_count": null,
      "outputs": []
    },
    {
      "cell_type": "markdown",
      "source": [
        "#Changing shape"
      ],
      "metadata": {
        "id": "W300NXNE5MV9"
      }
    },
    {
      "cell_type": "code",
      "source": [
        "#Crear nuevas columnas: species, catch; ignorar Region and YEAR\n",
        "original_data <- original_data %>%\n",
        "  gather(species, catch, -Region, -Year)\n",
        "\n",
        "head(original_data)"
      ],
      "metadata": {
        "colab": {
          "base_uri": "https://localhost:8080/",
          "height": 286
        },
        "id": "WDfsNA1mxVkv",
        "outputId": "b6b99b79-18db-4e3d-a5a0-da741862d2d6"
      },
      "execution_count": null,
      "outputs": [
        {
          "output_type": "display_data",
          "data": {
            "text/html": [
              "<table class=\"dataframe\">\n",
              "<caption>A data.frame: 6 × 4</caption>\n",
              "<thead>\n",
              "\t<tr><th></th><th scope=col>Region</th><th scope=col>Year</th><th scope=col>species</th><th scope=col>catch</th></tr>\n",
              "\t<tr><th></th><th scope=col>&lt;chr&gt;</th><th scope=col>&lt;int&gt;</th><th scope=col>&lt;chr&gt;</th><th scope=col>&lt;chr&gt;</th></tr>\n",
              "</thead>\n",
              "<tbody>\n",
              "\t<tr><th scope=row>1</th><td>SSE</td><td>1886</td><td>Chinook</td><td>0</td></tr>\n",
              "\t<tr><th scope=row>2</th><td>SSE</td><td>1887</td><td>Chinook</td><td>0</td></tr>\n",
              "\t<tr><th scope=row>3</th><td>SSE</td><td>1888</td><td>Chinook</td><td>0</td></tr>\n",
              "\t<tr><th scope=row>4</th><td>SSE</td><td>1889</td><td>Chinook</td><td>0</td></tr>\n",
              "\t<tr><th scope=row>5</th><td>SSE</td><td>1890</td><td>Chinook</td><td>0</td></tr>\n",
              "\t<tr><th scope=row>6</th><td>SSE</td><td>1891</td><td>Chinook</td><td>0</td></tr>\n",
              "</tbody>\n",
              "</table>\n"
            ],
            "text/markdown": "\nA data.frame: 6 × 4\n\n| <!--/--> | Region &lt;chr&gt; | Year &lt;int&gt; | species &lt;chr&gt; | catch &lt;chr&gt; |\n|---|---|---|---|---|\n| 1 | SSE | 1886 | Chinook | 0 |\n| 2 | SSE | 1887 | Chinook | 0 |\n| 3 | SSE | 1888 | Chinook | 0 |\n| 4 | SSE | 1889 | Chinook | 0 |\n| 5 | SSE | 1890 | Chinook | 0 |\n| 6 | SSE | 1891 | Chinook | 0 |\n\n",
            "text/latex": "A data.frame: 6 × 4\n\\begin{tabular}{r|llll}\n  & Region & Year & species & catch\\\\\n  & <chr> & <int> & <chr> & <chr>\\\\\n\\hline\n\t1 & SSE & 1886 & Chinook & 0\\\\\n\t2 & SSE & 1887 & Chinook & 0\\\\\n\t3 & SSE & 1888 & Chinook & 0\\\\\n\t4 & SSE & 1889 & Chinook & 0\\\\\n\t5 & SSE & 1890 & Chinook & 0\\\\\n\t6 & SSE & 1891 & Chinook & 0\\\\\n\\end{tabular}\n",
            "text/plain": [
              "  Region Year species catch\n",
              "1 SSE    1886 Chinook 0    \n",
              "2 SSE    1887 Chinook 0    \n",
              "3 SSE    1888 Chinook 0    \n",
              "4 SSE    1889 Chinook 0    \n",
              "5 SSE    1890 Chinook 0    \n",
              "6 SSE    1891 Chinook 0    "
            ]
          },
          "metadata": {}
        }
      ]
    },
    {
      "cell_type": "markdown",
      "source": [
        "#Renaming columns"
      ],
      "metadata": {
        "id": "nXfIYitX7n2D"
      }
    },
    {
      "cell_type": "code",
      "source": [
        "#Let's rename the \"catch\" column to be called catch_thousands:\n",
        "original_data1 <- original_data %>%\n",
        "  rename(catch_thousands = catch)\n",
        "head()"
      ],
      "metadata": {
        "colab": {
          "base_uri": "https://localhost:8080/",
          "height": 148
        },
        "id": "gdTzc00TxVm_",
        "outputId": "5545f23f-d9e6-4fec-f058-3bfb7c3afc0a"
      },
      "execution_count": null,
      "outputs": [
        {
          "output_type": "error",
          "ename": "ERROR",
          "evalue": "Error in head.default(): argument \"x\" is missing, with no default\n",
          "traceback": [
            "Error in head.default(): argument \"x\" is missing, with no default\nTraceback:\n",
            "1. head()",
            "2. head.default()",
            "3. checkHT(n, dx <- dim(x))"
          ]
        }
      ]
    },
    {
      "cell_type": "code",
      "source": [
        "head(original_data1)"
      ],
      "metadata": {
        "colab": {
          "base_uri": "https://localhost:8080/",
          "height": 286
        },
        "id": "vlXH_fAkxVr-",
        "outputId": "49c7f2ac-add8-4ad8-9729-1edbfa1a8302"
      },
      "execution_count": null,
      "outputs": [
        {
          "output_type": "display_data",
          "data": {
            "text/html": [
              "<table class=\"dataframe\">\n",
              "<caption>A data.frame: 6 × 4</caption>\n",
              "<thead>\n",
              "\t<tr><th></th><th scope=col>Region</th><th scope=col>Year</th><th scope=col>species</th><th scope=col>catch_thousands</th></tr>\n",
              "\t<tr><th></th><th scope=col>&lt;chr&gt;</th><th scope=col>&lt;int&gt;</th><th scope=col>&lt;chr&gt;</th><th scope=col>&lt;chr&gt;</th></tr>\n",
              "</thead>\n",
              "<tbody>\n",
              "\t<tr><th scope=row>1</th><td>SSE</td><td>1886</td><td>Chinook</td><td>0</td></tr>\n",
              "\t<tr><th scope=row>2</th><td>SSE</td><td>1887</td><td>Chinook</td><td>0</td></tr>\n",
              "\t<tr><th scope=row>3</th><td>SSE</td><td>1888</td><td>Chinook</td><td>0</td></tr>\n",
              "\t<tr><th scope=row>4</th><td>SSE</td><td>1889</td><td>Chinook</td><td>0</td></tr>\n",
              "\t<tr><th scope=row>5</th><td>SSE</td><td>1890</td><td>Chinook</td><td>0</td></tr>\n",
              "\t<tr><th scope=row>6</th><td>SSE</td><td>1891</td><td>Chinook</td><td>0</td></tr>\n",
              "</tbody>\n",
              "</table>\n"
            ],
            "text/markdown": "\nA data.frame: 6 × 4\n\n| <!--/--> | Region &lt;chr&gt; | Year &lt;int&gt; | species &lt;chr&gt; | catch_thousands &lt;chr&gt; |\n|---|---|---|---|---|\n| 1 | SSE | 1886 | Chinook | 0 |\n| 2 | SSE | 1887 | Chinook | 0 |\n| 3 | SSE | 1888 | Chinook | 0 |\n| 4 | SSE | 1889 | Chinook | 0 |\n| 5 | SSE | 1890 | Chinook | 0 |\n| 6 | SSE | 1891 | Chinook | 0 |\n\n",
            "text/latex": "A data.frame: 6 × 4\n\\begin{tabular}{r|llll}\n  & Region & Year & species & catch\\_thousands\\\\\n  & <chr> & <int> & <chr> & <chr>\\\\\n\\hline\n\t1 & SSE & 1886 & Chinook & 0\\\\\n\t2 & SSE & 1887 & Chinook & 0\\\\\n\t3 & SSE & 1888 & Chinook & 0\\\\\n\t4 & SSE & 1889 & Chinook & 0\\\\\n\t5 & SSE & 1890 & Chinook & 0\\\\\n\t6 & SSE & 1891 & Chinook & 0\\\\\n\\end{tabular}\n",
            "text/plain": [
              "  Region Year species catch_thousands\n",
              "1 SSE    1886 Chinook 0              \n",
              "2 SSE    1887 Chinook 0              \n",
              "3 SSE    1888 Chinook 0              \n",
              "4 SSE    1889 Chinook 0              \n",
              "5 SSE    1890 Chinook 0              \n",
              "6 SSE    1891 Chinook 0              "
            ]
          },
          "metadata": {}
        }
      ]
    },
    {
      "cell_type": "markdown",
      "source": [
        "#Adding columns"
      ],
      "metadata": {
        "id": "VlZWEUH48mpK"
      }
    },
    {
      "cell_type": "code",
      "source": [
        "#Let's create a new column called \"catch\" whit units of fish (instead of thousands of fish)\n",
        "\n",
        "#ver tipo de datos:\n",
        "summary(original_data1)\n",
        "\n"
      ],
      "metadata": {
        "colab": {
          "base_uri": "https://localhost:8080/",
          "height": 146
        },
        "id": "cqKwzBqIxVu6",
        "outputId": "d95dec05-d162-4d1c-f510-fc25fbeda286"
      },
      "execution_count": null,
      "outputs": [
        {
          "output_type": "display_data",
          "data": {
            "text/plain": [
              "    Region               Year        species          catch_thousands   \n",
              " Length:8540        Min.   :1878   Length:8540        Length:8540       \n",
              " Class :character   1st Qu.:1922   Class :character   Class :character  \n",
              " Mode  :character   Median :1947   Mode  :character   Mode  :character  \n",
              "                    Mean   :1946                                        \n",
              "                    3rd Qu.:1972                                        \n",
              "                    Max.   :1997                                        "
            ]
          },
          "metadata": {}
        }
      ]
    },
    {
      "cell_type": "code",
      "source": [
        "#la columna catch_thousands es tipo character, convertir a integers\n",
        "\n",
        "catch_integers <- as.integer(original_data1$catch_thousands)"
      ],
      "metadata": {
        "colab": {
          "base_uri": "https://localhost:8080/"
        },
        "id": "4X8t4YP4xVxq",
        "outputId": "71ecc0ca-351b-4103-dac0-46c2439ae3d3"
      },
      "execution_count": null,
      "outputs": [
        {
          "output_type": "stream",
          "name": "stderr",
          "text": [
            "Warning message in eval(expr, envir, enclos):\n",
            "“NAs introduced by coercion”\n"
          ]
        }
      ]
    },
    {
      "cell_type": "code",
      "source": [
        "#R talks us that it couldn't convert ever value to an integer, for those values it couldn't convert, it put NA in its place.\n",
        "\n",
        "#We can find put which values are NAs\n",
        "which(is.na(catch_integers))"
      ],
      "metadata": {
        "colab": {
          "base_uri": "https://localhost:8080/",
          "height": 34
        },
        "id": "-hWSGeJtxV0F",
        "outputId": "ec40ae28-1493-4b1f-dcf6-84ca1f6de514"
      },
      "execution_count": null,
      "outputs": [
        {
          "output_type": "display_data",
          "data": {
            "text/html": [
              "401"
            ],
            "text/markdown": "401",
            "text/latex": "401",
            "text/plain": [
              "[1] 401"
            ]
          },
          "metadata": {}
        }
      ]
    },
    {
      "cell_type": "code",
      "source": [
        "#It looks like the 401st value is the proble,\n",
        "\n",
        "original_data1[401,]"
      ],
      "metadata": {
        "colab": {
          "base_uri": "https://localhost:8080/",
          "height": 129
        },
        "id": "Z_RoYjI9xV47",
        "outputId": "2af1a6fa-6255-4d75-a87c-4a325677ef90"
      },
      "execution_count": null,
      "outputs": [
        {
          "output_type": "display_data",
          "data": {
            "text/html": [
              "<table class=\"dataframe\">\n",
              "<caption>A data.frame: 1 × 4</caption>\n",
              "<thead>\n",
              "\t<tr><th></th><th scope=col>Region</th><th scope=col>Year</th><th scope=col>species</th><th scope=col>catch_thousands</th></tr>\n",
              "\t<tr><th></th><th scope=col>&lt;chr&gt;</th><th scope=col>&lt;int&gt;</th><th scope=col>&lt;chr&gt;</th><th scope=col>&lt;chr&gt;</th></tr>\n",
              "</thead>\n",
              "<tbody>\n",
              "\t<tr><th scope=row>401</th><td>GSE</td><td>1955</td><td>Chinook</td><td>I</td></tr>\n",
              "</tbody>\n",
              "</table>\n"
            ],
            "text/markdown": "\nA data.frame: 1 × 4\n\n| <!--/--> | Region &lt;chr&gt; | Year &lt;int&gt; | species &lt;chr&gt; | catch_thousands &lt;chr&gt; |\n|---|---|---|---|---|\n| 401 | GSE | 1955 | Chinook | I |\n\n",
            "text/latex": "A data.frame: 1 × 4\n\\begin{tabular}{r|llll}\n  & Region & Year & species & catch\\_thousands\\\\\n  & <chr> & <int> & <chr> & <chr>\\\\\n\\hline\n\t401 & GSE & 1955 & Chinook & I\\\\\n\\end{tabular}\n",
            "text/plain": [
              "    Region Year species catch_thousands\n",
              "401 GSE    1955 Chinook I              "
            ]
          },
          "metadata": {}
        }
      ]
    },
    {
      "cell_type": "code",
      "source": [
        "original_data1 <- original_data1 %>%\n",
        "  mutate(catch_thousands = ifelse(catch_thousands == \"I\", 1, catch_thousands),\n",
        "         catch_thousands = as.integer(catch_thousands))"
      ],
      "metadata": {
        "id": "QqEDpIx5xV7x"
      },
      "execution_count": null,
      "outputs": []
    },
    {
      "cell_type": "code",
      "source": [
        "#convertir en unidades:\n",
        "original_data1 <- original_data1 %>%\n",
        "  mutate(catch = catch_thousands * 1000)\n",
        "\n",
        "summary(original_data1)\n"
      ],
      "metadata": {
        "colab": {
          "base_uri": "https://localhost:8080/",
          "height": 275
        },
        "id": "ISB_yIASxV-H",
        "outputId": "32d156bc-ce22-4613-fbd2-ca9e7d28e318"
      },
      "execution_count": null,
      "outputs": [
        {
          "output_type": "display_data",
          "data": {
            "text/plain": [
              "    Region               Year        species          catch_thousands  \n",
              " Length:8540        Min.   :1878   Length:8540        Min.   :    0.0  \n",
              " Class :character   1st Qu.:1922   Class :character   1st Qu.:    0.0  \n",
              " Mode  :character   Median :1947   Mode  :character   Median :   36.0  \n",
              "                    Mean   :1946                      Mean   :  873.2  \n",
              "                    3rd Qu.:1972                      3rd Qu.:  377.2  \n",
              "                    Max.   :1997                      Max.   :53676.0  \n",
              "     catch         \n",
              " Min.   :       0  \n",
              " 1st Qu.:       0  \n",
              " Median :   36000  \n",
              " Mean   :  873249  \n",
              " 3rd Qu.:  377250  \n",
              " Max.   :53676000  "
            ]
          },
          "metadata": {}
        }
      ]
    },
    {
      "cell_type": "code",
      "source": [
        "# Let's remove the \"catch_thousands\" column for now since we don't neet it.\n",
        "\n",
        "original_data1 <- original_data1 %>%\n",
        "  select(-catch_thousands)\n",
        "head(original_data1)"
      ],
      "metadata": {
        "colab": {
          "base_uri": "https://localhost:8080/",
          "height": 286
        },
        "id": "lZwZ5CnIxWAn",
        "outputId": "f06592dd-c87b-4e5a-f55c-5b32e00cc030"
      },
      "execution_count": null,
      "outputs": [
        {
          "output_type": "display_data",
          "data": {
            "text/html": [
              "<table class=\"dataframe\">\n",
              "<caption>A data.frame: 6 × 4</caption>\n",
              "<thead>\n",
              "\t<tr><th></th><th scope=col>Region</th><th scope=col>Year</th><th scope=col>species</th><th scope=col>catch</th></tr>\n",
              "\t<tr><th></th><th scope=col>&lt;chr&gt;</th><th scope=col>&lt;int&gt;</th><th scope=col>&lt;chr&gt;</th><th scope=col>&lt;dbl&gt;</th></tr>\n",
              "</thead>\n",
              "<tbody>\n",
              "\t<tr><th scope=row>1</th><td>SSE</td><td>1886</td><td>Chinook</td><td>0</td></tr>\n",
              "\t<tr><th scope=row>2</th><td>SSE</td><td>1887</td><td>Chinook</td><td>0</td></tr>\n",
              "\t<tr><th scope=row>3</th><td>SSE</td><td>1888</td><td>Chinook</td><td>0</td></tr>\n",
              "\t<tr><th scope=row>4</th><td>SSE</td><td>1889</td><td>Chinook</td><td>0</td></tr>\n",
              "\t<tr><th scope=row>5</th><td>SSE</td><td>1890</td><td>Chinook</td><td>0</td></tr>\n",
              "\t<tr><th scope=row>6</th><td>SSE</td><td>1891</td><td>Chinook</td><td>0</td></tr>\n",
              "</tbody>\n",
              "</table>\n"
            ],
            "text/markdown": "\nA data.frame: 6 × 4\n\n| <!--/--> | Region &lt;chr&gt; | Year &lt;int&gt; | species &lt;chr&gt; | catch &lt;dbl&gt; |\n|---|---|---|---|---|\n| 1 | SSE | 1886 | Chinook | 0 |\n| 2 | SSE | 1887 | Chinook | 0 |\n| 3 | SSE | 1888 | Chinook | 0 |\n| 4 | SSE | 1889 | Chinook | 0 |\n| 5 | SSE | 1890 | Chinook | 0 |\n| 6 | SSE | 1891 | Chinook | 0 |\n\n",
            "text/latex": "A data.frame: 6 × 4\n\\begin{tabular}{r|llll}\n  & Region & Year & species & catch\\\\\n  & <chr> & <int> & <chr> & <dbl>\\\\\n\\hline\n\t1 & SSE & 1886 & Chinook & 0\\\\\n\t2 & SSE & 1887 & Chinook & 0\\\\\n\t3 & SSE & 1888 & Chinook & 0\\\\\n\t4 & SSE & 1889 & Chinook & 0\\\\\n\t5 & SSE & 1890 & Chinook & 0\\\\\n\t6 & SSE & 1891 & Chinook & 0\\\\\n\\end{tabular}\n",
            "text/plain": [
              "  Region Year species catch\n",
              "1 SSE    1886 Chinook 0    \n",
              "2 SSE    1887 Chinook 0    \n",
              "3 SSE    1888 Chinook 0    \n",
              "4 SSE    1889 Chinook 0    \n",
              "5 SSE    1890 Chinook 0    \n",
              "6 SSE    1891 Chinook 0    "
            ]
          },
          "metadata": {}
        }
      ]
    },
    {
      "cell_type": "markdown",
      "source": [
        "#Group by and summarise"
      ],
      "metadata": {
        "id": "yP6S8Kv5_-aY"
      }
    },
    {
      "cell_type": "code",
      "source": [
        "original_data1 %>%\n",
        "  group_by(Region) %>%\n",
        "  summarise(mean(catch))"
      ],
      "metadata": {
        "colab": {
          "base_uri": "https://localhost:8080/",
          "height": 662
        },
        "id": "J6Az6CCYxWGF",
        "outputId": "34a3e52c-2e3e-483c-fbaf-5aecfef6f1b8"
      },
      "execution_count": null,
      "outputs": [
        {
          "output_type": "display_data",
          "data": {
            "text/html": [
              "<table class=\"dataframe\">\n",
              "<caption>A tibble: 18 × 2</caption>\n",
              "<thead>\n",
              "\t<tr><th scope=col>Region</th><th scope=col>mean(catch)</th></tr>\n",
              "\t<tr><th scope=col>&lt;chr&gt;</th><th scope=col>&lt;dbl&gt;</th></tr>\n",
              "</thead>\n",
              "<tbody>\n",
              "\t<tr><td>ALU</td><td>  40383.91</td></tr>\n",
              "\t<tr><td>BER</td><td>  16372.55</td></tr>\n",
              "\t<tr><td>BRB</td><td>2709796.49</td></tr>\n",
              "\t<tr><td>CHG</td><td> 315487.27</td></tr>\n",
              "\t<tr><td>CKI</td><td> 683571.43</td></tr>\n",
              "\t<tr><td>COP</td><td> 179223.40</td></tr>\n",
              "\t<tr><td>GSE</td><td> 133841.46</td></tr>\n",
              "\t<tr><td>KOD</td><td>1528350.00</td></tr>\n",
              "\t<tr><td>KSK</td><td>  67642.35</td></tr>\n",
              "\t<tr><td>KTZ</td><td>  18836.14</td></tr>\n",
              "\t<tr><td>NOP</td><td> 229493.48</td></tr>\n",
              "\t<tr><td>NRS</td><td>  51502.70</td></tr>\n",
              "\t<tr><td>NSE</td><td>1825020.87</td></tr>\n",
              "\t<tr><td>PWS</td><td>1419236.70</td></tr>\n",
              "\t<tr><td>SOP</td><td>1110942.22</td></tr>\n",
              "\t<tr><td>SSE</td><td>3184660.71</td></tr>\n",
              "\t<tr><td>YAK</td><td>  91922.92</td></tr>\n",
              "\t<tr><td>YUK</td><td>  68645.57</td></tr>\n",
              "</tbody>\n",
              "</table>\n"
            ],
            "text/markdown": "\nA tibble: 18 × 2\n\n| Region &lt;chr&gt; | mean(catch) &lt;dbl&gt; |\n|---|---|\n| ALU |   40383.91 |\n| BER |   16372.55 |\n| BRB | 2709796.49 |\n| CHG |  315487.27 |\n| CKI |  683571.43 |\n| COP |  179223.40 |\n| GSE |  133841.46 |\n| KOD | 1528350.00 |\n| KSK |   67642.35 |\n| KTZ |   18836.14 |\n| NOP |  229493.48 |\n| NRS |   51502.70 |\n| NSE | 1825020.87 |\n| PWS | 1419236.70 |\n| SOP | 1110942.22 |\n| SSE | 3184660.71 |\n| YAK |   91922.92 |\n| YUK |   68645.57 |\n\n",
            "text/latex": "A tibble: 18 × 2\n\\begin{tabular}{ll}\n Region & mean(catch)\\\\\n <chr> & <dbl>\\\\\n\\hline\n\t ALU &   40383.91\\\\\n\t BER &   16372.55\\\\\n\t BRB & 2709796.49\\\\\n\t CHG &  315487.27\\\\\n\t CKI &  683571.43\\\\\n\t COP &  179223.40\\\\\n\t GSE &  133841.46\\\\\n\t KOD & 1528350.00\\\\\n\t KSK &   67642.35\\\\\n\t KTZ &   18836.14\\\\\n\t NOP &  229493.48\\\\\n\t NRS &   51502.70\\\\\n\t NSE & 1825020.87\\\\\n\t PWS & 1419236.70\\\\\n\t SOP & 1110942.22\\\\\n\t SSE & 3184660.71\\\\\n\t YAK &   91922.92\\\\\n\t YUK &   68645.57\\\\\n\\end{tabular}\n",
            "text/plain": [
              "   Region mean(catch)\n",
              "1  ALU      40383.91 \n",
              "2  BER      16372.55 \n",
              "3  BRB    2709796.49 \n",
              "4  CHG     315487.27 \n",
              "5  CKI     683571.43 \n",
              "6  COP     179223.40 \n",
              "7  GSE     133841.46 \n",
              "8  KOD    1528350.00 \n",
              "9  KSK      67642.35 \n",
              "10 KTZ      18836.14 \n",
              "11 NOP     229493.48 \n",
              "12 NRS      51502.70 \n",
              "13 NSE    1825020.87 \n",
              "14 PWS    1419236.70 \n",
              "15 SOP    1110942.22 \n",
              "16 SSE    3184660.71 \n",
              "17 YAK      91922.92 \n",
              "18 YUK      68645.57 "
            ]
          },
          "metadata": {}
        }
      ]
    },
    {
      "cell_type": "code",
      "source": [
        "original_data1 %>%\n",
        "  group_by(species) %>%\n",
        "  summarise(max(catch))"
      ],
      "metadata": {
        "colab": {
          "base_uri": "https://localhost:8080/",
          "height": 255
        },
        "id": "UHWwZ7dqxWI8",
        "outputId": "042db9f6-6512-4211-c277-60ec23686a65"
      },
      "execution_count": null,
      "outputs": [
        {
          "output_type": "display_data",
          "data": {
            "text/html": [
              "<table class=\"dataframe\">\n",
              "<caption>A tibble: 5 × 2</caption>\n",
              "<thead>\n",
              "\t<tr><th scope=col>species</th><th scope=col>max(catch)</th></tr>\n",
              "\t<tr><th scope=col>&lt;chr&gt;</th><th scope=col>&lt;dbl&gt;</th></tr>\n",
              "</thead>\n",
              "<tbody>\n",
              "\t<tr><td>Chinook</td><td>  609000</td></tr>\n",
              "\t<tr><td>Chum   </td><td>10459000</td></tr>\n",
              "\t<tr><td>Coho   </td><td> 3220000</td></tr>\n",
              "\t<tr><td>Pink   </td><td>53676000</td></tr>\n",
              "\t<tr><td>Sockeye</td><td>44269000</td></tr>\n",
              "</tbody>\n",
              "</table>\n"
            ],
            "text/markdown": "\nA tibble: 5 × 2\n\n| species &lt;chr&gt; | max(catch) &lt;dbl&gt; |\n|---|---|\n| Chinook |   609000 |\n| Chum    | 10459000 |\n| Coho    |  3220000 |\n| Pink    | 53676000 |\n| Sockeye | 44269000 |\n\n",
            "text/latex": "A tibble: 5 × 2\n\\begin{tabular}{ll}\n species & max(catch)\\\\\n <chr> & <dbl>\\\\\n\\hline\n\t Chinook &   609000\\\\\n\t Chum    & 10459000\\\\\n\t Coho    &  3220000\\\\\n\t Pink    & 53676000\\\\\n\t Sockeye & 44269000\\\\\n\\end{tabular}\n",
            "text/plain": [
              "  species max(catch)\n",
              "1 Chinook   609000  \n",
              "2 Chum    10459000  \n",
              "3 Coho     3220000  \n",
              "4 Pink    53676000  \n",
              "5 Sockeye 44269000  "
            ]
          },
          "metadata": {}
        }
      ]
    },
    {
      "cell_type": "code",
      "source": [
        "# ...to count the number of rows in each group\n",
        "\n",
        "original_data1 %>%\n",
        "  group_by(Region) %>%\n",
        "  summarize(n=n())"
      ],
      "metadata": {
        "colab": {
          "base_uri": "https://localhost:8080/",
          "height": 662
        },
        "id": "AVyS2_oAxWLs",
        "outputId": "2438c322-89fb-430a-a23d-bf581ebcf014"
      },
      "execution_count": null,
      "outputs": [
        {
          "output_type": "display_data",
          "data": {
            "text/html": [
              "<table class=\"dataframe\">\n",
              "<caption>A tibble: 18 × 2</caption>\n",
              "<thead>\n",
              "\t<tr><th scope=col>Region</th><th scope=col>n</th></tr>\n",
              "\t<tr><th scope=col>&lt;chr&gt;</th><th scope=col>&lt;int&gt;</th></tr>\n",
              "</thead>\n",
              "<tbody>\n",
              "\t<tr><td>ALU</td><td>435</td></tr>\n",
              "\t<tr><td>BER</td><td>510</td></tr>\n",
              "\t<tr><td>BRB</td><td>570</td></tr>\n",
              "\t<tr><td>CHG</td><td>550</td></tr>\n",
              "\t<tr><td>CKI</td><td>525</td></tr>\n",
              "\t<tr><td>COP</td><td>470</td></tr>\n",
              "\t<tr><td>GSE</td><td>410</td></tr>\n",
              "\t<tr><td>KOD</td><td>580</td></tr>\n",
              "\t<tr><td>KSK</td><td>425</td></tr>\n",
              "\t<tr><td>KTZ</td><td>415</td></tr>\n",
              "\t<tr><td>NOP</td><td>460</td></tr>\n",
              "\t<tr><td>NRS</td><td>185</td></tr>\n",
              "\t<tr><td>NSE</td><td>575</td></tr>\n",
              "\t<tr><td>PWS</td><td>545</td></tr>\n",
              "\t<tr><td>SOP</td><td>450</td></tr>\n",
              "\t<tr><td>SSE</td><td>560</td></tr>\n",
              "\t<tr><td>YAK</td><td>480</td></tr>\n",
              "\t<tr><td>YUK</td><td>395</td></tr>\n",
              "</tbody>\n",
              "</table>\n"
            ],
            "text/markdown": "\nA tibble: 18 × 2\n\n| Region &lt;chr&gt; | n &lt;int&gt; |\n|---|---|\n| ALU | 435 |\n| BER | 510 |\n| BRB | 570 |\n| CHG | 550 |\n| CKI | 525 |\n| COP | 470 |\n| GSE | 410 |\n| KOD | 580 |\n| KSK | 425 |\n| KTZ | 415 |\n| NOP | 460 |\n| NRS | 185 |\n| NSE | 575 |\n| PWS | 545 |\n| SOP | 450 |\n| SSE | 560 |\n| YAK | 480 |\n| YUK | 395 |\n\n",
            "text/latex": "A tibble: 18 × 2\n\\begin{tabular}{ll}\n Region & n\\\\\n <chr> & <int>\\\\\n\\hline\n\t ALU & 435\\\\\n\t BER & 510\\\\\n\t BRB & 570\\\\\n\t CHG & 550\\\\\n\t CKI & 525\\\\\n\t COP & 470\\\\\n\t GSE & 410\\\\\n\t KOD & 580\\\\\n\t KSK & 425\\\\\n\t KTZ & 415\\\\\n\t NOP & 460\\\\\n\t NRS & 185\\\\\n\t NSE & 575\\\\\n\t PWS & 545\\\\\n\t SOP & 450\\\\\n\t SSE & 560\\\\\n\t YAK & 480\\\\\n\t YUK & 395\\\\\n\\end{tabular}\n",
            "text/plain": [
              "   Region n  \n",
              "1  ALU    435\n",
              "2  BER    510\n",
              "3  BRB    570\n",
              "4  CHG    550\n",
              "5  CKI    525\n",
              "6  COP    470\n",
              "7  GSE    410\n",
              "8  KOD    580\n",
              "9  KSK    425\n",
              "10 KTZ    415\n",
              "11 NOP    460\n",
              "12 NRS    185\n",
              "13 NSE    575\n",
              "14 PWS    545\n",
              "15 SOP    450\n",
              "16 SSE    560\n",
              "17 YAK    480\n",
              "18 YUK    395"
            ]
          },
          "metadata": {}
        }
      ]
    },
    {
      "cell_type": "markdown",
      "source": [
        "#Filtering rows"
      ],
      "metadata": {
        "id": "_cBg3ezuA_0j"
      }
    },
    {
      "cell_type": "code",
      "source": [
        "original_data1 %>%\n",
        "  filter(Region == 'SSE') %>%\n",
        "  head(12)"
      ],
      "metadata": {
        "colab": {
          "base_uri": "https://localhost:8080/",
          "height": 474
        },
        "id": "HxRZU7AUxWOQ",
        "outputId": "2328a23b-ec99-4abe-d99c-b2c1b4b0627b"
      },
      "execution_count": null,
      "outputs": [
        {
          "output_type": "display_data",
          "data": {
            "text/html": [
              "<table class=\"dataframe\">\n",
              "<caption>A data.frame: 12 × 4</caption>\n",
              "<thead>\n",
              "\t<tr><th></th><th scope=col>Region</th><th scope=col>Year</th><th scope=col>species</th><th scope=col>catch</th></tr>\n",
              "\t<tr><th></th><th scope=col>&lt;chr&gt;</th><th scope=col>&lt;int&gt;</th><th scope=col>&lt;chr&gt;</th><th scope=col>&lt;dbl&gt;</th></tr>\n",
              "</thead>\n",
              "<tbody>\n",
              "\t<tr><th scope=row>1</th><td>SSE</td><td>1886</td><td>Chinook</td><td>   0</td></tr>\n",
              "\t<tr><th scope=row>2</th><td>SSE</td><td>1887</td><td>Chinook</td><td>   0</td></tr>\n",
              "\t<tr><th scope=row>3</th><td>SSE</td><td>1888</td><td>Chinook</td><td>   0</td></tr>\n",
              "\t<tr><th scope=row>4</th><td>SSE</td><td>1889</td><td>Chinook</td><td>   0</td></tr>\n",
              "\t<tr><th scope=row>5</th><td>SSE</td><td>1890</td><td>Chinook</td><td>   0</td></tr>\n",
              "\t<tr><th scope=row>6</th><td>SSE</td><td>1891</td><td>Chinook</td><td>   0</td></tr>\n",
              "\t<tr><th scope=row>7</th><td>SSE</td><td>1892</td><td>Chinook</td><td>   0</td></tr>\n",
              "\t<tr><th scope=row>8</th><td>SSE</td><td>1893</td><td>Chinook</td><td>   0</td></tr>\n",
              "\t<tr><th scope=row>9</th><td>SSE</td><td>1894</td><td>Chinook</td><td>   0</td></tr>\n",
              "\t<tr><th scope=row>10</th><td>SSE</td><td>1895</td><td>Chinook</td><td>3000</td></tr>\n",
              "\t<tr><th scope=row>11</th><td>SSE</td><td>1896</td><td>Chinook</td><td>4000</td></tr>\n",
              "\t<tr><th scope=row>12</th><td>SSE</td><td>1897</td><td>Chinook</td><td>5000</td></tr>\n",
              "</tbody>\n",
              "</table>\n"
            ],
            "text/markdown": "\nA data.frame: 12 × 4\n\n| <!--/--> | Region &lt;chr&gt; | Year &lt;int&gt; | species &lt;chr&gt; | catch &lt;dbl&gt; |\n|---|---|---|---|---|\n| 1 | SSE | 1886 | Chinook |    0 |\n| 2 | SSE | 1887 | Chinook |    0 |\n| 3 | SSE | 1888 | Chinook |    0 |\n| 4 | SSE | 1889 | Chinook |    0 |\n| 5 | SSE | 1890 | Chinook |    0 |\n| 6 | SSE | 1891 | Chinook |    0 |\n| 7 | SSE | 1892 | Chinook |    0 |\n| 8 | SSE | 1893 | Chinook |    0 |\n| 9 | SSE | 1894 | Chinook |    0 |\n| 10 | SSE | 1895 | Chinook | 3000 |\n| 11 | SSE | 1896 | Chinook | 4000 |\n| 12 | SSE | 1897 | Chinook | 5000 |\n\n",
            "text/latex": "A data.frame: 12 × 4\n\\begin{tabular}{r|llll}\n  & Region & Year & species & catch\\\\\n  & <chr> & <int> & <chr> & <dbl>\\\\\n\\hline\n\t1 & SSE & 1886 & Chinook &    0\\\\\n\t2 & SSE & 1887 & Chinook &    0\\\\\n\t3 & SSE & 1888 & Chinook &    0\\\\\n\t4 & SSE & 1889 & Chinook &    0\\\\\n\t5 & SSE & 1890 & Chinook &    0\\\\\n\t6 & SSE & 1891 & Chinook &    0\\\\\n\t7 & SSE & 1892 & Chinook &    0\\\\\n\t8 & SSE & 1893 & Chinook &    0\\\\\n\t9 & SSE & 1894 & Chinook &    0\\\\\n\t10 & SSE & 1895 & Chinook & 3000\\\\\n\t11 & SSE & 1896 & Chinook & 4000\\\\\n\t12 & SSE & 1897 & Chinook & 5000\\\\\n\\end{tabular}\n",
            "text/plain": [
              "   Region Year species catch\n",
              "1  SSE    1886 Chinook    0 \n",
              "2  SSE    1887 Chinook    0 \n",
              "3  SSE    1888 Chinook    0 \n",
              "4  SSE    1889 Chinook    0 \n",
              "5  SSE    1890 Chinook    0 \n",
              "6  SSE    1891 Chinook    0 \n",
              "7  SSE    1892 Chinook    0 \n",
              "8  SSE    1893 Chinook    0 \n",
              "9  SSE    1894 Chinook    0 \n",
              "10 SSE    1895 Chinook 3000 \n",
              "11 SSE    1896 Chinook 4000 \n",
              "12 SSE    1897 Chinook 5000 "
            ]
          },
          "metadata": {}
        }
      ]
    },
    {
      "cell_type": "code",
      "source": [
        "original_data1 %>%\n",
        "  filter(Region == 'SSE' & species == 'Coho') %>%\n",
        "  head(12)"
      ],
      "metadata": {
        "colab": {
          "base_uri": "https://localhost:8080/",
          "height": 474
        },
        "id": "s76QDl1UxWQ3",
        "outputId": "2d836a24-459b-46b7-9f9a-dd985d1c3d9e"
      },
      "execution_count": null,
      "outputs": [
        {
          "output_type": "display_data",
          "data": {
            "text/html": [
              "<table class=\"dataframe\">\n",
              "<caption>A data.frame: 12 × 4</caption>\n",
              "<thead>\n",
              "\t<tr><th></th><th scope=col>Region</th><th scope=col>Year</th><th scope=col>species</th><th scope=col>catch</th></tr>\n",
              "\t<tr><th></th><th scope=col>&lt;chr&gt;</th><th scope=col>&lt;int&gt;</th><th scope=col>&lt;chr&gt;</th><th scope=col>&lt;dbl&gt;</th></tr>\n",
              "</thead>\n",
              "<tbody>\n",
              "\t<tr><th scope=row>1</th><td>SSE</td><td>1886</td><td>Coho</td><td>     0</td></tr>\n",
              "\t<tr><th scope=row>2</th><td>SSE</td><td>1887</td><td>Coho</td><td>     0</td></tr>\n",
              "\t<tr><th scope=row>3</th><td>SSE</td><td>1888</td><td>Coho</td><td> 16000</td></tr>\n",
              "\t<tr><th scope=row>4</th><td>SSE</td><td>1889</td><td>Coho</td><td> 11000</td></tr>\n",
              "\t<tr><th scope=row>5</th><td>SSE</td><td>1890</td><td>Coho</td><td> 42000</td></tr>\n",
              "\t<tr><th scope=row>6</th><td>SSE</td><td>1891</td><td>Coho</td><td> 24000</td></tr>\n",
              "\t<tr><th scope=row>7</th><td>SSE</td><td>1892</td><td>Coho</td><td> 11000</td></tr>\n",
              "\t<tr><th scope=row>8</th><td>SSE</td><td>1893</td><td>Coho</td><td>  1000</td></tr>\n",
              "\t<tr><th scope=row>9</th><td>SSE</td><td>1894</td><td>Coho</td><td>  5000</td></tr>\n",
              "\t<tr><th scope=row>10</th><td>SSE</td><td>1895</td><td>Coho</td><td>  8000</td></tr>\n",
              "\t<tr><th scope=row>11</th><td>SSE</td><td>1896</td><td>Coho</td><td>192000</td></tr>\n",
              "\t<tr><th scope=row>12</th><td>SSE</td><td>1897</td><td>Coho</td><td>161000</td></tr>\n",
              "</tbody>\n",
              "</table>\n"
            ],
            "text/markdown": "\nA data.frame: 12 × 4\n\n| <!--/--> | Region &lt;chr&gt; | Year &lt;int&gt; | species &lt;chr&gt; | catch &lt;dbl&gt; |\n|---|---|---|---|---|\n| 1 | SSE | 1886 | Coho |      0 |\n| 2 | SSE | 1887 | Coho |      0 |\n| 3 | SSE | 1888 | Coho |  16000 |\n| 4 | SSE | 1889 | Coho |  11000 |\n| 5 | SSE | 1890 | Coho |  42000 |\n| 6 | SSE | 1891 | Coho |  24000 |\n| 7 | SSE | 1892 | Coho |  11000 |\n| 8 | SSE | 1893 | Coho |   1000 |\n| 9 | SSE | 1894 | Coho |   5000 |\n| 10 | SSE | 1895 | Coho |   8000 |\n| 11 | SSE | 1896 | Coho | 192000 |\n| 12 | SSE | 1897 | Coho | 161000 |\n\n",
            "text/latex": "A data.frame: 12 × 4\n\\begin{tabular}{r|llll}\n  & Region & Year & species & catch\\\\\n  & <chr> & <int> & <chr> & <dbl>\\\\\n\\hline\n\t1 & SSE & 1886 & Coho &      0\\\\\n\t2 & SSE & 1887 & Coho &      0\\\\\n\t3 & SSE & 1888 & Coho &  16000\\\\\n\t4 & SSE & 1889 & Coho &  11000\\\\\n\t5 & SSE & 1890 & Coho &  42000\\\\\n\t6 & SSE & 1891 & Coho &  24000\\\\\n\t7 & SSE & 1892 & Coho &  11000\\\\\n\t8 & SSE & 1893 & Coho &   1000\\\\\n\t9 & SSE & 1894 & Coho &   5000\\\\\n\t10 & SSE & 1895 & Coho &   8000\\\\\n\t11 & SSE & 1896 & Coho & 192000\\\\\n\t12 & SSE & 1897 & Coho & 161000\\\\\n\\end{tabular}\n",
            "text/plain": [
              "   Region Year species catch \n",
              "1  SSE    1886 Coho         0\n",
              "2  SSE    1887 Coho         0\n",
              "3  SSE    1888 Coho     16000\n",
              "4  SSE    1889 Coho     11000\n",
              "5  SSE    1890 Coho     42000\n",
              "6  SSE    1891 Coho     24000\n",
              "7  SSE    1892 Coho     11000\n",
              "8  SSE    1893 Coho      1000\n",
              "9  SSE    1894 Coho      5000\n",
              "10 SSE    1895 Coho      8000\n",
              "11 SSE    1896 Coho    192000\n",
              "12 SSE    1897 Coho    161000"
            ]
          },
          "metadata": {}
        }
      ]
    },
    {
      "cell_type": "markdown",
      "source": [
        "#Sorting your data"
      ],
      "metadata": {
        "id": "3ef4YTHTCu54"
      }
    },
    {
      "cell_type": "code",
      "source": [
        "#agrupa el conjunto de datos por la columna \"Region\", calcula el promedio del\n",
        "# \"catch\" para cada región y luego ordena los resultados en función de este promedio.\n",
        "\n",
        "original_data1 %>%\n",
        "  group_by(Region) %>%\n",
        "  summarise(mean_catch = mean(catch)) %>%\n",
        "  arrange(mean_catch)"
      ],
      "metadata": {
        "colab": {
          "base_uri": "https://localhost:8080/",
          "height": 662
        },
        "id": "QBVWMlHyxWTj",
        "outputId": "521d010d-cc1b-432c-f77e-97028eaab664"
      },
      "execution_count": null,
      "outputs": [
        {
          "output_type": "display_data",
          "data": {
            "text/html": [
              "<table class=\"dataframe\">\n",
              "<caption>A tibble: 18 × 2</caption>\n",
              "<thead>\n",
              "\t<tr><th scope=col>Region</th><th scope=col>mean_catch</th></tr>\n",
              "\t<tr><th scope=col>&lt;chr&gt;</th><th scope=col>&lt;dbl&gt;</th></tr>\n",
              "</thead>\n",
              "<tbody>\n",
              "\t<tr><td>BER</td><td>  16372.55</td></tr>\n",
              "\t<tr><td>KTZ</td><td>  18836.14</td></tr>\n",
              "\t<tr><td>ALU</td><td>  40383.91</td></tr>\n",
              "\t<tr><td>NRS</td><td>  51502.70</td></tr>\n",
              "\t<tr><td>KSK</td><td>  67642.35</td></tr>\n",
              "\t<tr><td>YUK</td><td>  68645.57</td></tr>\n",
              "\t<tr><td>YAK</td><td>  91922.92</td></tr>\n",
              "\t<tr><td>GSE</td><td> 133841.46</td></tr>\n",
              "\t<tr><td>COP</td><td> 179223.40</td></tr>\n",
              "\t<tr><td>NOP</td><td> 229493.48</td></tr>\n",
              "\t<tr><td>CHG</td><td> 315487.27</td></tr>\n",
              "\t<tr><td>CKI</td><td> 683571.43</td></tr>\n",
              "\t<tr><td>SOP</td><td>1110942.22</td></tr>\n",
              "\t<tr><td>PWS</td><td>1419236.70</td></tr>\n",
              "\t<tr><td>KOD</td><td>1528350.00</td></tr>\n",
              "\t<tr><td>NSE</td><td>1825020.87</td></tr>\n",
              "\t<tr><td>BRB</td><td>2709796.49</td></tr>\n",
              "\t<tr><td>SSE</td><td>3184660.71</td></tr>\n",
              "</tbody>\n",
              "</table>\n"
            ],
            "text/markdown": "\nA tibble: 18 × 2\n\n| Region &lt;chr&gt; | mean_catch &lt;dbl&gt; |\n|---|---|\n| BER |   16372.55 |\n| KTZ |   18836.14 |\n| ALU |   40383.91 |\n| NRS |   51502.70 |\n| KSK |   67642.35 |\n| YUK |   68645.57 |\n| YAK |   91922.92 |\n| GSE |  133841.46 |\n| COP |  179223.40 |\n| NOP |  229493.48 |\n| CHG |  315487.27 |\n| CKI |  683571.43 |\n| SOP | 1110942.22 |\n| PWS | 1419236.70 |\n| KOD | 1528350.00 |\n| NSE | 1825020.87 |\n| BRB | 2709796.49 |\n| SSE | 3184660.71 |\n\n",
            "text/latex": "A tibble: 18 × 2\n\\begin{tabular}{ll}\n Region & mean\\_catch\\\\\n <chr> & <dbl>\\\\\n\\hline\n\t BER &   16372.55\\\\\n\t KTZ &   18836.14\\\\\n\t ALU &   40383.91\\\\\n\t NRS &   51502.70\\\\\n\t KSK &   67642.35\\\\\n\t YUK &   68645.57\\\\\n\t YAK &   91922.92\\\\\n\t GSE &  133841.46\\\\\n\t COP &  179223.40\\\\\n\t NOP &  229493.48\\\\\n\t CHG &  315487.27\\\\\n\t CKI &  683571.43\\\\\n\t SOP & 1110942.22\\\\\n\t PWS & 1419236.70\\\\\n\t KOD & 1528350.00\\\\\n\t NSE & 1825020.87\\\\\n\t BRB & 2709796.49\\\\\n\t SSE & 3184660.71\\\\\n\\end{tabular}\n",
            "text/plain": [
              "   Region mean_catch\n",
              "1  BER      16372.55\n",
              "2  KTZ      18836.14\n",
              "3  ALU      40383.91\n",
              "4  NRS      51502.70\n",
              "5  KSK      67642.35\n",
              "6  YUK      68645.57\n",
              "7  YAK      91922.92\n",
              "8  GSE     133841.46\n",
              "9  COP     179223.40\n",
              "10 NOP     229493.48\n",
              "11 CHG     315487.27\n",
              "12 CKI     683571.43\n",
              "13 SOP    1110942.22\n",
              "14 PWS    1419236.70\n",
              "15 KOD    1528350.00\n",
              "16 NSE    1825020.87\n",
              "17 BRB    2709796.49\n",
              "18 SSE    3184660.71"
            ]
          },
          "metadata": {}
        }
      ]
    },
    {
      "cell_type": "code",
      "source": [
        "# The default sorting order of \"arrange()\" is to sort in ascending order;\n",
        "# to reverse the sort order:\n",
        "\n",
        "original_data1 %>%\n",
        "  group_by(Region) %>%\n",
        "  summarise(mean_catch = mean(catch)) %>%\n",
        "  arrange(desc(mean_catch))"
      ],
      "metadata": {
        "colab": {
          "base_uri": "https://localhost:8080/",
          "height": 662
        },
        "id": "yQOBXB65xWWj",
        "outputId": "214f1d76-4cb7-4ad9-8ab2-d6c9aa9d71c1"
      },
      "execution_count": null,
      "outputs": [
        {
          "output_type": "display_data",
          "data": {
            "text/html": [
              "<table class=\"dataframe\">\n",
              "<caption>A tibble: 18 × 2</caption>\n",
              "<thead>\n",
              "\t<tr><th scope=col>Region</th><th scope=col>mean_catch</th></tr>\n",
              "\t<tr><th scope=col>&lt;chr&gt;</th><th scope=col>&lt;dbl&gt;</th></tr>\n",
              "</thead>\n",
              "<tbody>\n",
              "\t<tr><td>SSE</td><td>3184660.71</td></tr>\n",
              "\t<tr><td>BRB</td><td>2709796.49</td></tr>\n",
              "\t<tr><td>NSE</td><td>1825020.87</td></tr>\n",
              "\t<tr><td>KOD</td><td>1528350.00</td></tr>\n",
              "\t<tr><td>PWS</td><td>1419236.70</td></tr>\n",
              "\t<tr><td>SOP</td><td>1110942.22</td></tr>\n",
              "\t<tr><td>CKI</td><td> 683571.43</td></tr>\n",
              "\t<tr><td>CHG</td><td> 315487.27</td></tr>\n",
              "\t<tr><td>NOP</td><td> 229493.48</td></tr>\n",
              "\t<tr><td>COP</td><td> 179223.40</td></tr>\n",
              "\t<tr><td>GSE</td><td> 133841.46</td></tr>\n",
              "\t<tr><td>YAK</td><td>  91922.92</td></tr>\n",
              "\t<tr><td>YUK</td><td>  68645.57</td></tr>\n",
              "\t<tr><td>KSK</td><td>  67642.35</td></tr>\n",
              "\t<tr><td>NRS</td><td>  51502.70</td></tr>\n",
              "\t<tr><td>ALU</td><td>  40383.91</td></tr>\n",
              "\t<tr><td>KTZ</td><td>  18836.14</td></tr>\n",
              "\t<tr><td>BER</td><td>  16372.55</td></tr>\n",
              "</tbody>\n",
              "</table>\n"
            ],
            "text/markdown": "\nA tibble: 18 × 2\n\n| Region &lt;chr&gt; | mean_catch &lt;dbl&gt; |\n|---|---|\n| SSE | 3184660.71 |\n| BRB | 2709796.49 |\n| NSE | 1825020.87 |\n| KOD | 1528350.00 |\n| PWS | 1419236.70 |\n| SOP | 1110942.22 |\n| CKI |  683571.43 |\n| CHG |  315487.27 |\n| NOP |  229493.48 |\n| COP |  179223.40 |\n| GSE |  133841.46 |\n| YAK |   91922.92 |\n| YUK |   68645.57 |\n| KSK |   67642.35 |\n| NRS |   51502.70 |\n| ALU |   40383.91 |\n| KTZ |   18836.14 |\n| BER |   16372.55 |\n\n",
            "text/latex": "A tibble: 18 × 2\n\\begin{tabular}{ll}\n Region & mean\\_catch\\\\\n <chr> & <dbl>\\\\\n\\hline\n\t SSE & 3184660.71\\\\\n\t BRB & 2709796.49\\\\\n\t NSE & 1825020.87\\\\\n\t KOD & 1528350.00\\\\\n\t PWS & 1419236.70\\\\\n\t SOP & 1110942.22\\\\\n\t CKI &  683571.43\\\\\n\t CHG &  315487.27\\\\\n\t NOP &  229493.48\\\\\n\t COP &  179223.40\\\\\n\t GSE &  133841.46\\\\\n\t YAK &   91922.92\\\\\n\t YUK &   68645.57\\\\\n\t KSK &   67642.35\\\\\n\t NRS &   51502.70\\\\\n\t ALU &   40383.91\\\\\n\t KTZ &   18836.14\\\\\n\t BER &   16372.55\\\\\n\\end{tabular}\n",
            "text/plain": [
              "   Region mean_catch\n",
              "1  SSE    3184660.71\n",
              "2  BRB    2709796.49\n",
              "3  NSE    1825020.87\n",
              "4  KOD    1528350.00\n",
              "5  PWS    1419236.70\n",
              "6  SOP    1110942.22\n",
              "7  CKI     683571.43\n",
              "8  CHG     315487.27\n",
              "9  NOP     229493.48\n",
              "10 COP     179223.40\n",
              "11 GSE     133841.46\n",
              "12 YAK      91922.92\n",
              "13 YUK      68645.57\n",
              "14 KSK      67642.35\n",
              "15 NRS      51502.70\n",
              "16 ALU      40383.91\n",
              "17 KTZ      18836.14\n",
              "18 BER      16372.55"
            ]
          },
          "metadata": {}
        }
      ]
    },
    {
      "cell_type": "markdown",
      "source": [
        "#Joins"
      ],
      "metadata": {
        "id": "SlnVW9qmE-yR"
      }
    },
    {
      "cell_type": "code",
      "source": [
        "#Manipulating more than one dataframe"
      ],
      "metadata": {
        "id": "zD5Wk1qKxWZU"
      },
      "execution_count": null,
      "outputs": []
    },
    {
      "cell_type": "code",
      "source": [
        "#second data frame:\n",
        "\n",
        "region_defs <- read.csv(url(\"https://knb.ecoinformatics.org/knb/d1/mn/v2/object/df35b.303.1\", method = \"libcurl\"),\n",
        "                        stringsAsFactors = FALSE)\n",
        "head(region_defs)"
      ],
      "metadata": {
        "colab": {
          "base_uri": "https://localhost:8080/",
          "height": 321
        },
        "id": "vAKZtEEVxWci",
        "outputId": "75df5a12-60be-44ad-d138-da7670820f15"
      },
      "execution_count": null,
      "outputs": [
        {
          "output_type": "display_data",
          "data": {
            "text/html": [
              "<table class=\"dataframe\">\n",
              "<caption>A data.frame: 6 × 5</caption>\n",
              "<thead>\n",
              "\t<tr><th></th><th scope=col>code</th><th scope=col>mgmtArea</th><th scope=col>areaClass</th><th scope=col>regionCode</th><th scope=col>notes</th></tr>\n",
              "\t<tr><th></th><th scope=col>&lt;chr&gt;</th><th scope=col>&lt;chr&gt;</th><th scope=col>&lt;chr&gt;</th><th scope=col>&lt;int&gt;</th><th scope=col>&lt;chr&gt;</th></tr>\n",
              "</thead>\n",
              "<tbody>\n",
              "\t<tr><th scope=row>1</th><td>GSE    </td><td>Unallocated Southeast Alaska             </td><td>mgmtArea</td><td>1</td><td>Included are Southeastern Alaska catches which could not be assigned\n",
              "to Northern or Southern Southeastern Alaska or Yakutat                                                           </td></tr>\n",
              "\t<tr><th scope=row>2</th><td>NSE    </td><td>Northern Southeast Alaska                </td><td>mgmtArea</td><td>1</td><td>Northern Southern Alaska includes Districts 9 through 16 from summer straight northwest to and including the fairweather Grounds but excludes Yakutat fisheries unless otherwise noted.</td></tr>\n",
              "\t<tr><th scope=row>3</th><td>SSE    </td><td>Southern Southeast Alaska                </td><td>mgmtArea</td><td>1</td><td>                                                                                                                                                                                       </td></tr>\n",
              "\t<tr><th scope=row>4</th><td>YAK    </td><td>Yakutat                                  </td><td>mgmtArea</td><td>1</td><td>                                                                                                                                                                                       </td></tr>\n",
              "\t<tr><th scope=row>5</th><td>PWSmgmt</td><td>Prince William Sound Management Area     </td><td>mgmtArea</td><td>2</td><td>Includes the Bering River and Copper River and Prince William Sound Subareas                                                                                                           </td></tr>\n",
              "\t<tr><th scope=row>6</th><td>BER    </td><td>Bering River Subarea Copper River Subarea</td><td>subarea </td><td>2</td><td>                                                                                                                                                                                       </td></tr>\n",
              "</tbody>\n",
              "</table>\n"
            ],
            "text/markdown": "\nA data.frame: 6 × 5\n\n| <!--/--> | code &lt;chr&gt; | mgmtArea &lt;chr&gt; | areaClass &lt;chr&gt; | regionCode &lt;int&gt; | notes &lt;chr&gt; |\n|---|---|---|---|---|---|\n| 1 | GSE     | Unallocated Southeast Alaska              | mgmtArea | 1 | Included are Southeastern Alaska catches which could not be assigned\nto Northern or Southern Southeastern Alaska or Yakutat                                                            |\n| 2 | NSE     | Northern Southeast Alaska                 | mgmtArea | 1 | Northern Southern Alaska includes Districts 9 through 16 from summer straight northwest to and including the fairweather Grounds but excludes Yakutat fisheries unless otherwise noted. |\n| 3 | SSE     | Southern Southeast Alaska                 | mgmtArea | 1 | <!----> |\n| 4 | YAK     | Yakutat                                   | mgmtArea | 1 | <!----> |\n| 5 | PWSmgmt | Prince William Sound Management Area      | mgmtArea | 2 | Includes the Bering River and Copper River and Prince William Sound Subareas                                                                                                            |\n| 6 | BER     | Bering River Subarea Copper River Subarea | subarea  | 2 | <!----> |\n\n",
            "text/latex": "A data.frame: 6 × 5\n\\begin{tabular}{r|lllll}\n  & code & mgmtArea & areaClass & regionCode & notes\\\\\n  & <chr> & <chr> & <chr> & <int> & <chr>\\\\\n\\hline\n\t1 & GSE     & Unallocated Southeast Alaska              & mgmtArea & 1 & Included are Southeastern Alaska catches which could not be assigned\nto Northern or Southern Southeastern Alaska or Yakutat                                                           \\\\\n\t2 & NSE     & Northern Southeast Alaska                 & mgmtArea & 1 & Northern Southern Alaska includes Districts 9 through 16 from summer straight northwest to and including the fairweather Grounds but excludes Yakutat fisheries unless otherwise noted.\\\\\n\t3 & SSE     & Southern Southeast Alaska                 & mgmtArea & 1 &                                                                                                                                                                                        \\\\\n\t4 & YAK     & Yakutat                                   & mgmtArea & 1 &                                                                                                                                                                                        \\\\\n\t5 & PWSmgmt & Prince William Sound Management Area      & mgmtArea & 2 & Includes the Bering River and Copper River and Prince William Sound Subareas                                                                                                           \\\\\n\t6 & BER     & Bering River Subarea Copper River Subarea & subarea  & 2 &                                                                                                                                                                                        \\\\\n\\end{tabular}\n",
            "text/plain": [
              "  code    mgmtArea                                  areaClass regionCode\n",
              "1 GSE     Unallocated Southeast Alaska              mgmtArea  1         \n",
              "2 NSE     Northern Southeast Alaska                 mgmtArea  1         \n",
              "3 SSE     Southern Southeast Alaska                 mgmtArea  1         \n",
              "4 YAK     Yakutat                                   mgmtArea  1         \n",
              "5 PWSmgmt Prince William Sound Management Area      mgmtArea  2         \n",
              "6 BER     Bering River Subarea Copper River Subarea subarea   2         \n",
              "  notes                                                                                                                                                                                  \n",
              "1 Included are Southeastern Alaska catches which could not be assigned\\nto Northern or Southern Southeastern Alaska or Yakutat                                                           \n",
              "2 Northern Southern Alaska includes Districts 9 through 16 from summer straight northwest to and including the fairweather Grounds but excludes Yakutat fisheries unless otherwise noted.\n",
              "3                                                                                                                                                                                        \n",
              "4                                                                                                                                                                                        \n",
              "5 Includes the Bering River and Copper River and Prince William Sound Subareas                                                                                                           \n",
              "6                                                                                                                                                                                        "
            ]
          },
          "metadata": {}
        }
      ]
    },
    {
      "cell_type": "code",
      "source": [
        "#We can see that the column names don't exactly match in both dataframe\n",
        "\n",
        "\n",
        "# LEFT JOIN entre tabla REGION_DEFS y ORIGNAL_DATA1\n",
        "original_data1 %>%\n",
        "  group_by(Region) %>%\n",
        "  summarise(total_catch = sum(catch)) %>%\n",
        "  left_join(region_defs, by = c(\"Region\" = \"code\"))"
      ],
      "metadata": {
        "colab": {
          "base_uri": "https://localhost:8080/",
          "height": 697
        },
        "id": "wETSWSUsvO-B",
        "outputId": "63380332-77f8-4bf0-f211-e288947c6dc7"
      },
      "execution_count": null,
      "outputs": [
        {
          "output_type": "display_data",
          "data": {
            "text/html": [
              "<table class=\"dataframe\">\n",
              "<caption>A tibble: 18 × 6</caption>\n",
              "<thead>\n",
              "\t<tr><th scope=col>Region</th><th scope=col>total_catch</th><th scope=col>mgmtArea</th><th scope=col>areaClass</th><th scope=col>regionCode</th><th scope=col>notes</th></tr>\n",
              "\t<tr><th scope=col>&lt;chr&gt;</th><th scope=col>&lt;dbl&gt;</th><th scope=col>&lt;chr&gt;</th><th scope=col>&lt;chr&gt;</th><th scope=col>&lt;int&gt;</th><th scope=col>&lt;chr&gt;</th></tr>\n",
              "</thead>\n",
              "<tbody>\n",
              "\t<tr><td>ALU</td><td>  17567000</td><td>Aleutian Islands Subarea                 </td><td>subarea </td><td>4</td><td>                                                                                                                                                                                       </td></tr>\n",
              "\t<tr><td>BER</td><td>   8350000</td><td>Bering River Subarea Copper River Subarea</td><td>subarea </td><td>2</td><td>                                                                                                                                                                                       </td></tr>\n",
              "\t<tr><td>BRB</td><td>1544584000</td><td>Bristol Bay Management Area              </td><td>mgmtArea</td><td>2</td><td>                                                                                                                                                                                       </td></tr>\n",
              "\t<tr><td>CHG</td><td> 173518000</td><td>Chignik Management Area                  </td><td>mgmtArea</td><td>4</td><td>                                                                                                                                                                                       </td></tr>\n",
              "\t<tr><td>CKI</td><td> 358875000</td><td>Cook Inlet Management Area               </td><td>mgmtArea</td><td>2</td><td>Cook Inlet includes Resurrection Bay unless otherwise noted                                                                                                                            </td></tr>\n",
              "\t<tr><td>COP</td><td>  84235000</td><td>Copper River Subarea                     </td><td>subarea </td><td>2</td><td>                                                                                                                                                                                       </td></tr>\n",
              "\t<tr><td>GSE</td><td>  54875000</td><td>Unallocated Southeast Alaska             </td><td>mgmtArea</td><td>1</td><td>Included are Southeastern Alaska catches which could not be assigned\n",
              "to Northern or Southern Southeastern Alaska or Yakutat                                                           </td></tr>\n",
              "\t<tr><td>KOD</td><td> 886443000</td><td>Kodiak Management Area                   </td><td>mgmtArea</td><td>4</td><td>                                                                                                                                                                                       </td></tr>\n",
              "\t<tr><td>KSK</td><td>  28748000</td><td>Kuskokwim Management Area                </td><td>mgmtArea</td><td>3</td><td>                                                                                                                                                                                       </td></tr>\n",
              "\t<tr><td>KTZ</td><td>   7817000</td><td>Kotzebue Management Area                 </td><td>mgmtArea</td><td>3</td><td>                                                                                                                                                                                       </td></tr>\n",
              "\t<tr><td>NOP</td><td> 105567000</td><td>NorthPeninsual Subarea                   </td><td>subarea </td><td>4</td><td>                                                                                                                                                                                       </td></tr>\n",
              "\t<tr><td>NRS</td><td>   9528000</td><td>Norton Sound Management Area             </td><td>mgmtArea</td><td>3</td><td>                                                                                                                                                                                       </td></tr>\n",
              "\t<tr><td>NSE</td><td>1049387000</td><td>Northern Southeast Alaska                </td><td>mgmtArea</td><td>1</td><td>Northern Southern Alaska includes Districts 9 through 16 from summer straight northwest to and including the fairweather Grounds but excludes Yakutat fisheries unless otherwise noted.</td></tr>\n",
              "\t<tr><td>PWS</td><td> 773484000</td><td>Prince William Sound Subarea             </td><td>subarea </td><td>2</td><td>                                                                                                                                                                                       </td></tr>\n",
              "\t<tr><td>SOP</td><td> 499924000</td><td>South Peninsula Subarea                  </td><td>subarea </td><td>4</td><td>                                                                                                                                                                                       </td></tr>\n",
              "\t<tr><td>SSE</td><td>1783410000</td><td>Southern Southeast Alaska                </td><td>mgmtArea</td><td>1</td><td>                                                                                                                                                                                       </td></tr>\n",
              "\t<tr><td>YAK</td><td>  44123000</td><td>Yakutat                                  </td><td>mgmtArea</td><td>1</td><td>                                                                                                                                                                                       </td></tr>\n",
              "\t<tr><td>YUK</td><td>  27115000</td><td>Yukon Management Area                    </td><td>mgmtArea</td><td>3</td><td>                                                                                                                                                                                       </td></tr>\n",
              "</tbody>\n",
              "</table>\n"
            ],
            "text/markdown": "\nA tibble: 18 × 6\n\n| Region &lt;chr&gt; | total_catch &lt;dbl&gt; | mgmtArea &lt;chr&gt; | areaClass &lt;chr&gt; | regionCode &lt;int&gt; | notes &lt;chr&gt; |\n|---|---|---|---|---|---|\n| ALU |   17567000 | Aleutian Islands Subarea                  | subarea  | 4 | <!----> |\n| BER |    8350000 | Bering River Subarea Copper River Subarea | subarea  | 2 | <!----> |\n| BRB | 1544584000 | Bristol Bay Management Area               | mgmtArea | 2 | <!----> |\n| CHG |  173518000 | Chignik Management Area                   | mgmtArea | 4 | <!----> |\n| CKI |  358875000 | Cook Inlet Management Area                | mgmtArea | 2 | Cook Inlet includes Resurrection Bay unless otherwise noted                                                                                                                             |\n| COP |   84235000 | Copper River Subarea                      | subarea  | 2 | <!----> |\n| GSE |   54875000 | Unallocated Southeast Alaska              | mgmtArea | 1 | Included are Southeastern Alaska catches which could not be assigned\nto Northern or Southern Southeastern Alaska or Yakutat                                                            |\n| KOD |  886443000 | Kodiak Management Area                    | mgmtArea | 4 | <!----> |\n| KSK |   28748000 | Kuskokwim Management Area                 | mgmtArea | 3 | <!----> |\n| KTZ |    7817000 | Kotzebue Management Area                  | mgmtArea | 3 | <!----> |\n| NOP |  105567000 | NorthPeninsual Subarea                    | subarea  | 4 | <!----> |\n| NRS |    9528000 | Norton Sound Management Area              | mgmtArea | 3 | <!----> |\n| NSE | 1049387000 | Northern Southeast Alaska                 | mgmtArea | 1 | Northern Southern Alaska includes Districts 9 through 16 from summer straight northwest to and including the fairweather Grounds but excludes Yakutat fisheries unless otherwise noted. |\n| PWS |  773484000 | Prince William Sound Subarea              | subarea  | 2 | <!----> |\n| SOP |  499924000 | South Peninsula Subarea                   | subarea  | 4 | <!----> |\n| SSE | 1783410000 | Southern Southeast Alaska                 | mgmtArea | 1 | <!----> |\n| YAK |   44123000 | Yakutat                                   | mgmtArea | 1 | <!----> |\n| YUK |   27115000 | Yukon Management Area                     | mgmtArea | 3 | <!----> |\n\n",
            "text/latex": "A tibble: 18 × 6\n\\begin{tabular}{llllll}\n Region & total\\_catch & mgmtArea & areaClass & regionCode & notes\\\\\n <chr> & <dbl> & <chr> & <chr> & <int> & <chr>\\\\\n\\hline\n\t ALU &   17567000 & Aleutian Islands Subarea                  & subarea  & 4 &                                                                                                                                                                                        \\\\\n\t BER &    8350000 & Bering River Subarea Copper River Subarea & subarea  & 2 &                                                                                                                                                                                        \\\\\n\t BRB & 1544584000 & Bristol Bay Management Area               & mgmtArea & 2 &                                                                                                                                                                                        \\\\\n\t CHG &  173518000 & Chignik Management Area                   & mgmtArea & 4 &                                                                                                                                                                                        \\\\\n\t CKI &  358875000 & Cook Inlet Management Area                & mgmtArea & 2 & Cook Inlet includes Resurrection Bay unless otherwise noted                                                                                                                            \\\\\n\t COP &   84235000 & Copper River Subarea                      & subarea  & 2 &                                                                                                                                                                                        \\\\\n\t GSE &   54875000 & Unallocated Southeast Alaska              & mgmtArea & 1 & Included are Southeastern Alaska catches which could not be assigned\nto Northern or Southern Southeastern Alaska or Yakutat                                                           \\\\\n\t KOD &  886443000 & Kodiak Management Area                    & mgmtArea & 4 &                                                                                                                                                                                        \\\\\n\t KSK &   28748000 & Kuskokwim Management Area                 & mgmtArea & 3 &                                                                                                                                                                                        \\\\\n\t KTZ &    7817000 & Kotzebue Management Area                  & mgmtArea & 3 &                                                                                                                                                                                        \\\\\n\t NOP &  105567000 & NorthPeninsual Subarea                    & subarea  & 4 &                                                                                                                                                                                        \\\\\n\t NRS &    9528000 & Norton Sound Management Area              & mgmtArea & 3 &                                                                                                                                                                                        \\\\\n\t NSE & 1049387000 & Northern Southeast Alaska                 & mgmtArea & 1 & Northern Southern Alaska includes Districts 9 through 16 from summer straight northwest to and including the fairweather Grounds but excludes Yakutat fisheries unless otherwise noted.\\\\\n\t PWS &  773484000 & Prince William Sound Subarea              & subarea  & 2 &                                                                                                                                                                                        \\\\\n\t SOP &  499924000 & South Peninsula Subarea                   & subarea  & 4 &                                                                                                                                                                                        \\\\\n\t SSE & 1783410000 & Southern Southeast Alaska                 & mgmtArea & 1 &                                                                                                                                                                                        \\\\\n\t YAK &   44123000 & Yakutat                                   & mgmtArea & 1 &                                                                                                                                                                                        \\\\\n\t YUK &   27115000 & Yukon Management Area                     & mgmtArea & 3 &                                                                                                                                                                                        \\\\\n\\end{tabular}\n",
            "text/plain": [
              "   Region total_catch mgmtArea                                  areaClass\n",
              "1  ALU      17567000  Aleutian Islands Subarea                  subarea  \n",
              "2  BER       8350000  Bering River Subarea Copper River Subarea subarea  \n",
              "3  BRB    1544584000  Bristol Bay Management Area               mgmtArea \n",
              "4  CHG     173518000  Chignik Management Area                   mgmtArea \n",
              "5  CKI     358875000  Cook Inlet Management Area                mgmtArea \n",
              "6  COP      84235000  Copper River Subarea                      subarea  \n",
              "7  GSE      54875000  Unallocated Southeast Alaska              mgmtArea \n",
              "8  KOD     886443000  Kodiak Management Area                    mgmtArea \n",
              "9  KSK      28748000  Kuskokwim Management Area                 mgmtArea \n",
              "10 KTZ       7817000  Kotzebue Management Area                  mgmtArea \n",
              "11 NOP     105567000  NorthPeninsual Subarea                    subarea  \n",
              "12 NRS       9528000  Norton Sound Management Area              mgmtArea \n",
              "13 NSE    1049387000  Northern Southeast Alaska                 mgmtArea \n",
              "14 PWS     773484000  Prince William Sound Subarea              subarea  \n",
              "15 SOP     499924000  South Peninsula Subarea                   subarea  \n",
              "16 SSE    1783410000  Southern Southeast Alaska                 mgmtArea \n",
              "17 YAK      44123000  Yakutat                                   mgmtArea \n",
              "18 YUK      27115000  Yukon Management Area                     mgmtArea \n",
              "   regionCode\n",
              "1  4         \n",
              "2  2         \n",
              "3  2         \n",
              "4  4         \n",
              "5  2         \n",
              "6  2         \n",
              "7  1         \n",
              "8  4         \n",
              "9  3         \n",
              "10 3         \n",
              "11 4         \n",
              "12 3         \n",
              "13 1         \n",
              "14 2         \n",
              "15 4         \n",
              "16 1         \n",
              "17 1         \n",
              "18 3         \n",
              "   notes                                                                                                                                                                                  \n",
              "1                                                                                                                                                                                         \n",
              "2                                                                                                                                                                                         \n",
              "3                                                                                                                                                                                         \n",
              "4                                                                                                                                                                                         \n",
              "5  Cook Inlet includes Resurrection Bay unless otherwise noted                                                                                                                            \n",
              "6                                                                                                                                                                                         \n",
              "7  Included are Southeastern Alaska catches which could not be assigned\\nto Northern or Southern Southeastern Alaska or Yakutat                                                           \n",
              "8                                                                                                                                                                                         \n",
              "9                                                                                                                                                                                         \n",
              "10                                                                                                                                                                                        \n",
              "11                                                                                                                                                                                        \n",
              "12                                                                                                                                                                                        \n",
              "13 Northern Southern Alaska includes Districts 9 through 16 from summer straight northwest to and including the fairweather Grounds but excludes Yakutat fisheries unless otherwise noted.\n",
              "14                                                                                                                                                                                        \n",
              "15                                                                                                                                                                                        \n",
              "16                                                                                                                                                                                        \n",
              "17                                                                                                                                                                                        \n",
              "18                                                                                                                                                                                        "
            ]
          },
          "metadata": {}
        }
      ]
    },
    {
      "cell_type": "code",
      "source": [
        "#Another way is to use RENAME to change the column name CODE to REGION in the REGION_DEFS dataframe,\n",
        "# and run the left_join this way:\n",
        "\n",
        "region_defs <- region_defs %>%\n",
        "  rename(Region = code, Region_Name = mgmtArea )\n",
        "\n",
        "original_data1 %>%\n",
        "  group_by(Region) %>%\n",
        "  summarise(total_catch = sum(catch)) %>%\n",
        "  left_join(region_defs, by = c(\"Region\"))"
      ],
      "metadata": {
        "colab": {
          "base_uri": "https://localhost:8080/",
          "height": 697
        },
        "id": "Xd4RK-Q7vPBU",
        "outputId": "fafb6f64-e5b5-49df-fbd3-6c33bc72ac13"
      },
      "execution_count": null,
      "outputs": [
        {
          "output_type": "display_data",
          "data": {
            "text/html": [
              "<table class=\"dataframe\">\n",
              "<caption>A tibble: 18 × 6</caption>\n",
              "<thead>\n",
              "\t<tr><th scope=col>Region</th><th scope=col>total_catch</th><th scope=col>Region_Name</th><th scope=col>areaClass</th><th scope=col>regionCode</th><th scope=col>notes</th></tr>\n",
              "\t<tr><th scope=col>&lt;chr&gt;</th><th scope=col>&lt;dbl&gt;</th><th scope=col>&lt;chr&gt;</th><th scope=col>&lt;chr&gt;</th><th scope=col>&lt;int&gt;</th><th scope=col>&lt;chr&gt;</th></tr>\n",
              "</thead>\n",
              "<tbody>\n",
              "\t<tr><td>ALU</td><td>  17567000</td><td>Aleutian Islands Subarea                 </td><td>subarea </td><td>4</td><td>                                                                                                                                                                                       </td></tr>\n",
              "\t<tr><td>BER</td><td>   8350000</td><td>Bering River Subarea Copper River Subarea</td><td>subarea </td><td>2</td><td>                                                                                                                                                                                       </td></tr>\n",
              "\t<tr><td>BRB</td><td>1544584000</td><td>Bristol Bay Management Area              </td><td>mgmtArea</td><td>2</td><td>                                                                                                                                                                                       </td></tr>\n",
              "\t<tr><td>CHG</td><td> 173518000</td><td>Chignik Management Area                  </td><td>mgmtArea</td><td>4</td><td>                                                                                                                                                                                       </td></tr>\n",
              "\t<tr><td>CKI</td><td> 358875000</td><td>Cook Inlet Management Area               </td><td>mgmtArea</td><td>2</td><td>Cook Inlet includes Resurrection Bay unless otherwise noted                                                                                                                            </td></tr>\n",
              "\t<tr><td>COP</td><td>  84235000</td><td>Copper River Subarea                     </td><td>subarea </td><td>2</td><td>                                                                                                                                                                                       </td></tr>\n",
              "\t<tr><td>GSE</td><td>  54875000</td><td>Unallocated Southeast Alaska             </td><td>mgmtArea</td><td>1</td><td>Included are Southeastern Alaska catches which could not be assigned\n",
              "to Northern or Southern Southeastern Alaska or Yakutat                                                           </td></tr>\n",
              "\t<tr><td>KOD</td><td> 886443000</td><td>Kodiak Management Area                   </td><td>mgmtArea</td><td>4</td><td>                                                                                                                                                                                       </td></tr>\n",
              "\t<tr><td>KSK</td><td>  28748000</td><td>Kuskokwim Management Area                </td><td>mgmtArea</td><td>3</td><td>                                                                                                                                                                                       </td></tr>\n",
              "\t<tr><td>KTZ</td><td>   7817000</td><td>Kotzebue Management Area                 </td><td>mgmtArea</td><td>3</td><td>                                                                                                                                                                                       </td></tr>\n",
              "\t<tr><td>NOP</td><td> 105567000</td><td>NorthPeninsual Subarea                   </td><td>subarea </td><td>4</td><td>                                                                                                                                                                                       </td></tr>\n",
              "\t<tr><td>NRS</td><td>   9528000</td><td>Norton Sound Management Area             </td><td>mgmtArea</td><td>3</td><td>                                                                                                                                                                                       </td></tr>\n",
              "\t<tr><td>NSE</td><td>1049387000</td><td>Northern Southeast Alaska                </td><td>mgmtArea</td><td>1</td><td>Northern Southern Alaska includes Districts 9 through 16 from summer straight northwest to and including the fairweather Grounds but excludes Yakutat fisheries unless otherwise noted.</td></tr>\n",
              "\t<tr><td>PWS</td><td> 773484000</td><td>Prince William Sound Subarea             </td><td>subarea </td><td>2</td><td>                                                                                                                                                                                       </td></tr>\n",
              "\t<tr><td>SOP</td><td> 499924000</td><td>South Peninsula Subarea                  </td><td>subarea </td><td>4</td><td>                                                                                                                                                                                       </td></tr>\n",
              "\t<tr><td>SSE</td><td>1783410000</td><td>Southern Southeast Alaska                </td><td>mgmtArea</td><td>1</td><td>                                                                                                                                                                                       </td></tr>\n",
              "\t<tr><td>YAK</td><td>  44123000</td><td>Yakutat                                  </td><td>mgmtArea</td><td>1</td><td>                                                                                                                                                                                       </td></tr>\n",
              "\t<tr><td>YUK</td><td>  27115000</td><td>Yukon Management Area                    </td><td>mgmtArea</td><td>3</td><td>                                                                                                                                                                                       </td></tr>\n",
              "</tbody>\n",
              "</table>\n"
            ],
            "text/markdown": "\nA tibble: 18 × 6\n\n| Region &lt;chr&gt; | total_catch &lt;dbl&gt; | Region_Name &lt;chr&gt; | areaClass &lt;chr&gt; | regionCode &lt;int&gt; | notes &lt;chr&gt; |\n|---|---|---|---|---|---|\n| ALU |   17567000 | Aleutian Islands Subarea                  | subarea  | 4 | <!----> |\n| BER |    8350000 | Bering River Subarea Copper River Subarea | subarea  | 2 | <!----> |\n| BRB | 1544584000 | Bristol Bay Management Area               | mgmtArea | 2 | <!----> |\n| CHG |  173518000 | Chignik Management Area                   | mgmtArea | 4 | <!----> |\n| CKI |  358875000 | Cook Inlet Management Area                | mgmtArea | 2 | Cook Inlet includes Resurrection Bay unless otherwise noted                                                                                                                             |\n| COP |   84235000 | Copper River Subarea                      | subarea  | 2 | <!----> |\n| GSE |   54875000 | Unallocated Southeast Alaska              | mgmtArea | 1 | Included are Southeastern Alaska catches which could not be assigned\nto Northern or Southern Southeastern Alaska or Yakutat                                                            |\n| KOD |  886443000 | Kodiak Management Area                    | mgmtArea | 4 | <!----> |\n| KSK |   28748000 | Kuskokwim Management Area                 | mgmtArea | 3 | <!----> |\n| KTZ |    7817000 | Kotzebue Management Area                  | mgmtArea | 3 | <!----> |\n| NOP |  105567000 | NorthPeninsual Subarea                    | subarea  | 4 | <!----> |\n| NRS |    9528000 | Norton Sound Management Area              | mgmtArea | 3 | <!----> |\n| NSE | 1049387000 | Northern Southeast Alaska                 | mgmtArea | 1 | Northern Southern Alaska includes Districts 9 through 16 from summer straight northwest to and including the fairweather Grounds but excludes Yakutat fisheries unless otherwise noted. |\n| PWS |  773484000 | Prince William Sound Subarea              | subarea  | 2 | <!----> |\n| SOP |  499924000 | South Peninsula Subarea                   | subarea  | 4 | <!----> |\n| SSE | 1783410000 | Southern Southeast Alaska                 | mgmtArea | 1 | <!----> |\n| YAK |   44123000 | Yakutat                                   | mgmtArea | 1 | <!----> |\n| YUK |   27115000 | Yukon Management Area                     | mgmtArea | 3 | <!----> |\n\n",
            "text/latex": "A tibble: 18 × 6\n\\begin{tabular}{llllll}\n Region & total\\_catch & Region\\_Name & areaClass & regionCode & notes\\\\\n <chr> & <dbl> & <chr> & <chr> & <int> & <chr>\\\\\n\\hline\n\t ALU &   17567000 & Aleutian Islands Subarea                  & subarea  & 4 &                                                                                                                                                                                        \\\\\n\t BER &    8350000 & Bering River Subarea Copper River Subarea & subarea  & 2 &                                                                                                                                                                                        \\\\\n\t BRB & 1544584000 & Bristol Bay Management Area               & mgmtArea & 2 &                                                                                                                                                                                        \\\\\n\t CHG &  173518000 & Chignik Management Area                   & mgmtArea & 4 &                                                                                                                                                                                        \\\\\n\t CKI &  358875000 & Cook Inlet Management Area                & mgmtArea & 2 & Cook Inlet includes Resurrection Bay unless otherwise noted                                                                                                                            \\\\\n\t COP &   84235000 & Copper River Subarea                      & subarea  & 2 &                                                                                                                                                                                        \\\\\n\t GSE &   54875000 & Unallocated Southeast Alaska              & mgmtArea & 1 & Included are Southeastern Alaska catches which could not be assigned\nto Northern or Southern Southeastern Alaska or Yakutat                                                           \\\\\n\t KOD &  886443000 & Kodiak Management Area                    & mgmtArea & 4 &                                                                                                                                                                                        \\\\\n\t KSK &   28748000 & Kuskokwim Management Area                 & mgmtArea & 3 &                                                                                                                                                                                        \\\\\n\t KTZ &    7817000 & Kotzebue Management Area                  & mgmtArea & 3 &                                                                                                                                                                                        \\\\\n\t NOP &  105567000 & NorthPeninsual Subarea                    & subarea  & 4 &                                                                                                                                                                                        \\\\\n\t NRS &    9528000 & Norton Sound Management Area              & mgmtArea & 3 &                                                                                                                                                                                        \\\\\n\t NSE & 1049387000 & Northern Southeast Alaska                 & mgmtArea & 1 & Northern Southern Alaska includes Districts 9 through 16 from summer straight northwest to and including the fairweather Grounds but excludes Yakutat fisheries unless otherwise noted.\\\\\n\t PWS &  773484000 & Prince William Sound Subarea              & subarea  & 2 &                                                                                                                                                                                        \\\\\n\t SOP &  499924000 & South Peninsula Subarea                   & subarea  & 4 &                                                                                                                                                                                        \\\\\n\t SSE & 1783410000 & Southern Southeast Alaska                 & mgmtArea & 1 &                                                                                                                                                                                        \\\\\n\t YAK &   44123000 & Yakutat                                   & mgmtArea & 1 &                                                                                                                                                                                        \\\\\n\t YUK &   27115000 & Yukon Management Area                     & mgmtArea & 3 &                                                                                                                                                                                        \\\\\n\\end{tabular}\n",
            "text/plain": [
              "   Region total_catch Region_Name                               areaClass\n",
              "1  ALU      17567000  Aleutian Islands Subarea                  subarea  \n",
              "2  BER       8350000  Bering River Subarea Copper River Subarea subarea  \n",
              "3  BRB    1544584000  Bristol Bay Management Area               mgmtArea \n",
              "4  CHG     173518000  Chignik Management Area                   mgmtArea \n",
              "5  CKI     358875000  Cook Inlet Management Area                mgmtArea \n",
              "6  COP      84235000  Copper River Subarea                      subarea  \n",
              "7  GSE      54875000  Unallocated Southeast Alaska              mgmtArea \n",
              "8  KOD     886443000  Kodiak Management Area                    mgmtArea \n",
              "9  KSK      28748000  Kuskokwim Management Area                 mgmtArea \n",
              "10 KTZ       7817000  Kotzebue Management Area                  mgmtArea \n",
              "11 NOP     105567000  NorthPeninsual Subarea                    subarea  \n",
              "12 NRS       9528000  Norton Sound Management Area              mgmtArea \n",
              "13 NSE    1049387000  Northern Southeast Alaska                 mgmtArea \n",
              "14 PWS     773484000  Prince William Sound Subarea              subarea  \n",
              "15 SOP     499924000  South Peninsula Subarea                   subarea  \n",
              "16 SSE    1783410000  Southern Southeast Alaska                 mgmtArea \n",
              "17 YAK      44123000  Yakutat                                   mgmtArea \n",
              "18 YUK      27115000  Yukon Management Area                     mgmtArea \n",
              "   regionCode\n",
              "1  4         \n",
              "2  2         \n",
              "3  2         \n",
              "4  4         \n",
              "5  2         \n",
              "6  2         \n",
              "7  1         \n",
              "8  4         \n",
              "9  3         \n",
              "10 3         \n",
              "11 4         \n",
              "12 3         \n",
              "13 1         \n",
              "14 2         \n",
              "15 4         \n",
              "16 1         \n",
              "17 1         \n",
              "18 3         \n",
              "   notes                                                                                                                                                                                  \n",
              "1                                                                                                                                                                                         \n",
              "2                                                                                                                                                                                         \n",
              "3                                                                                                                                                                                         \n",
              "4                                                                                                                                                                                         \n",
              "5  Cook Inlet includes Resurrection Bay unless otherwise noted                                                                                                                            \n",
              "6                                                                                                                                                                                         \n",
              "7  Included are Southeastern Alaska catches which could not be assigned\\nto Northern or Southern Southeastern Alaska or Yakutat                                                           \n",
              "8                                                                                                                                                                                         \n",
              "9                                                                                                                                                                                         \n",
              "10                                                                                                                                                                                        \n",
              "11                                                                                                                                                                                        \n",
              "12                                                                                                                                                                                        \n",
              "13 Northern Southern Alaska includes Districts 9 through 16 from summer straight northwest to and including the fairweather Grounds but excludes Yakutat fisheries unless otherwise noted.\n",
              "14                                                                                                                                                                                        \n",
              "15                                                                                                                                                                                        \n",
              "16                                                                                                                                                                                        \n",
              "17                                                                                                                                                                                        \n",
              "18                                                                                                                                                                                        "
            ]
          },
          "metadata": {}
        }
      ]
    },
    {
      "cell_type": "markdown",
      "source": [
        "#Split a single column into numerous (or numerous into a single)"
      ],
      "metadata": {
        "id": "29Ceg0EpK9Nq"
      }
    },
    {
      "cell_type": "code",
      "source": [
        "#Let's make a new dataframe with fake data to illustrate\n",
        "\n",
        "dates_df <- data.frame(date = c(\"5/24/1930\",\n",
        "                                \"5/25/1930\",\n",
        "                                \"5/26/1930\",\n",
        "                                \"5/27/1930\",\n",
        "                                \"5/28/1930\"),\n",
        "                       stringsAsFactors = FALSE)\n",
        "\n",
        "dates_df %>%\n",
        "  separate(date, c(\"month\", \"day\", \"year\"), \"/\")"
      ],
      "metadata": {
        "colab": {
          "base_uri": "https://localhost:8080/",
          "height": 255
        },
        "id": "8vtgErIDvPD0",
        "outputId": "93d21c32-e1da-4ba8-9c71-e82c5437114a"
      },
      "execution_count": null,
      "outputs": [
        {
          "output_type": "display_data",
          "data": {
            "text/html": [
              "<table class=\"dataframe\">\n",
              "<caption>A data.frame: 5 × 3</caption>\n",
              "<thead>\n",
              "\t<tr><th scope=col>month</th><th scope=col>day</th><th scope=col>year</th></tr>\n",
              "\t<tr><th scope=col>&lt;chr&gt;</th><th scope=col>&lt;chr&gt;</th><th scope=col>&lt;chr&gt;</th></tr>\n",
              "</thead>\n",
              "<tbody>\n",
              "\t<tr><td>5</td><td>24</td><td>1930</td></tr>\n",
              "\t<tr><td>5</td><td>25</td><td>1930</td></tr>\n",
              "\t<tr><td>5</td><td>26</td><td>1930</td></tr>\n",
              "\t<tr><td>5</td><td>27</td><td>1930</td></tr>\n",
              "\t<tr><td>5</td><td>28</td><td>1930</td></tr>\n",
              "</tbody>\n",
              "</table>\n"
            ],
            "text/markdown": "\nA data.frame: 5 × 3\n\n| month &lt;chr&gt; | day &lt;chr&gt; | year &lt;chr&gt; |\n|---|---|---|\n| 5 | 24 | 1930 |\n| 5 | 25 | 1930 |\n| 5 | 26 | 1930 |\n| 5 | 27 | 1930 |\n| 5 | 28 | 1930 |\n\n",
            "text/latex": "A data.frame: 5 × 3\n\\begin{tabular}{lll}\n month & day & year\\\\\n <chr> & <chr> & <chr>\\\\\n\\hline\n\t 5 & 24 & 1930\\\\\n\t 5 & 25 & 1930\\\\\n\t 5 & 26 & 1930\\\\\n\t 5 & 27 & 1930\\\\\n\t 5 & 28 & 1930\\\\\n\\end{tabular}\n",
            "text/plain": [
              "  month day year\n",
              "1 5     24  1930\n",
              "2 5     25  1930\n",
              "3 5     26  1930\n",
              "4 5     27  1930\n",
              "5 5     28  1930"
            ]
          },
          "metadata": {}
        }
      ]
    },
    {
      "cell_type": "code",
      "source": [
        "cities_df <- data.frame(city = c(\"Juneau AK\",\n",
        "                                 \"Sitka AK\",\n",
        "                                 \"Anchorage AK\"),\n",
        "                        stringsAsFactors = FALSE)\n",
        "\n",
        "#Split the city column in the following dataframe into city and state_code columns:\n",
        "cities_df %>%\n",
        "  separate(city, c(\"city\", \"state_code\"), \" \")"
      ],
      "metadata": {
        "colab": {
          "base_uri": "https://localhost:8080/",
          "height": 192
        },
        "id": "o2GLpWPWvPGL",
        "outputId": "55627514-8f08-4f7b-d574-7aaf0ee801ab"
      },
      "execution_count": null,
      "outputs": [
        {
          "output_type": "display_data",
          "data": {
            "text/html": [
              "<table class=\"dataframe\">\n",
              "<caption>A data.frame: 3 × 2</caption>\n",
              "<thead>\n",
              "\t<tr><th scope=col>city</th><th scope=col>state_code</th></tr>\n",
              "\t<tr><th scope=col>&lt;chr&gt;</th><th scope=col>&lt;chr&gt;</th></tr>\n",
              "</thead>\n",
              "<tbody>\n",
              "\t<tr><td>Juneau   </td><td>AK</td></tr>\n",
              "\t<tr><td>Sitka    </td><td>AK</td></tr>\n",
              "\t<tr><td>Anchorage</td><td>AK</td></tr>\n",
              "</tbody>\n",
              "</table>\n"
            ],
            "text/markdown": "\nA data.frame: 3 × 2\n\n| city &lt;chr&gt; | state_code &lt;chr&gt; |\n|---|---|\n| Juneau    | AK |\n| Sitka     | AK |\n| Anchorage | AK |\n\n",
            "text/latex": "A data.frame: 3 × 2\n\\begin{tabular}{ll}\n city & state\\_code\\\\\n <chr> & <chr>\\\\\n\\hline\n\t Juneau    & AK\\\\\n\t Sitka     & AK\\\\\n\t Anchorage & AK\\\\\n\\end{tabular}\n",
            "text/plain": [
              "  city      state_code\n",
              "1 Juneau    AK        \n",
              "2 Sitka     AK        \n",
              "3 Anchorage AK        "
            ]
          },
          "metadata": {}
        }
      ]
    },
    {
      "cell_type": "code",
      "source": [
        "#unite() does just the reverse of separate():\n",
        "\n",
        "dates_df %>%\n",
        "  separate(date, c(\"month\", \"day\", \"year\"), \"/\") %>%\n",
        "  unite(date, month, day, year, sep=\"/\")\n"
      ],
      "metadata": {
        "colab": {
          "base_uri": "https://localhost:8080/",
          "height": 289
        },
        "id": "NJ7jh3vbvPI9",
        "outputId": "0d1c9477-3ca1-4343-e13b-91f7c35ded1e"
      },
      "execution_count": null,
      "outputs": [
        {
          "output_type": "display_data",
          "data": {
            "text/html": [
              "<table class=\"dataframe\">\n",
              "<caption>A data.frame: 5 × 1</caption>\n",
              "<thead>\n",
              "\t<tr><th scope=col>date</th></tr>\n",
              "\t<tr><th scope=col>&lt;chr&gt;</th></tr>\n",
              "</thead>\n",
              "<tbody>\n",
              "\t<tr><td>5/24/1930</td></tr>\n",
              "\t<tr><td>5/25/1930</td></tr>\n",
              "\t<tr><td>5/26/1930</td></tr>\n",
              "\t<tr><td>5/27/1930</td></tr>\n",
              "\t<tr><td>5/28/1930</td></tr>\n",
              "</tbody>\n",
              "</table>\n"
            ],
            "text/markdown": "\nA data.frame: 5 × 1\n\n| date &lt;chr&gt; |\n|---|\n| 5/24/1930 |\n| 5/25/1930 |\n| 5/26/1930 |\n| 5/27/1930 |\n| 5/28/1930 |\n\n",
            "text/latex": "A data.frame: 5 × 1\n\\begin{tabular}{l}\n date\\\\\n <chr>\\\\\n\\hline\n\t 5/24/1930\\\\\n\t 5/25/1930\\\\\n\t 5/26/1930\\\\\n\t 5/27/1930\\\\\n\t 5/28/1930\\\\\n\\end{tabular}\n",
            "text/plain": [
              "  date     \n",
              "1 5/24/1930\n",
              "2 5/25/1930\n",
              "3 5/26/1930\n",
              "4 5/27/1930\n",
              "5 5/28/1930"
            ]
          },
          "metadata": {}
        }
      ]
    },
    {
      "cell_type": "code",
      "source": [],
      "metadata": {
        "id": "DpKjV2qfvPLp"
      },
      "execution_count": null,
      "outputs": []
    },
    {
      "cell_type": "code",
      "source": [],
      "metadata": {
        "id": "mpQqsnZGvPOP"
      },
      "execution_count": null,
      "outputs": []
    },
    {
      "cell_type": "code",
      "source": [],
      "metadata": {
        "id": "cOQvHp66vPQn"
      },
      "execution_count": null,
      "outputs": []
    },
    {
      "cell_type": "code",
      "source": [],
      "metadata": {
        "id": "ZQUW0W7DvPTV"
      },
      "execution_count": null,
      "outputs": []
    },
    {
      "cell_type": "code",
      "source": [],
      "metadata": {
        "id": "iaP0jU-_uajp"
      },
      "execution_count": null,
      "outputs": []
    }
  ]
}