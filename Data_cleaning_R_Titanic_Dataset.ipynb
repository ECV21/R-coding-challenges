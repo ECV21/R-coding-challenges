{
  "nbformat": 4,
  "nbformat_minor": 0,
  "metadata": {
    "colab": {
      "provenance": [],
      "authorship_tag": "ABX9TyPdRx641hpQ/PZ7IkjvHlnj",
      "include_colab_link": true
    },
    "kernelspec": {
      "name": "ir",
      "display_name": "R"
    },
    "language_info": {
      "name": "R"
    }
  },
  "cells": [
    {
      "cell_type": "markdown",
      "metadata": {
        "id": "view-in-github",
        "colab_type": "text"
      },
      "source": [
        "<a href=\"https://colab.research.google.com/github/ECV21/R-coding-challenges/blob/main/Data_cleaning_R_Titanic_Dataset.ipynb\" target=\"_parent\"><img src=\"https://colab.research.google.com/assets/colab-badge.svg\" alt=\"Open In Colab\"/></a>"
      ]
    },
    {
      "cell_type": "markdown",
      "source": [
        "#Data cleaning of dataset Titanic whit R"
      ],
      "metadata": {
        "id": "KzUc-oBmpFqy"
      }
    },
    {
      "cell_type": "code",
      "source": [
        "library(dplyr)\n",
        "library(readr)"
      ],
      "metadata": {
        "colab": {
          "base_uri": "https://localhost:8080/"
        },
        "id": "JZzDmHRBApIl",
        "outputId": "9c9e1881-cc1c-44d4-bbad-6a754dab20d7"
      },
      "execution_count": 4,
      "outputs": [
        {
          "output_type": "stream",
          "name": "stderr",
          "text": [
            "\n",
            "Attaching package: ‘dplyr’\n",
            "\n",
            "\n",
            "The following objects are masked from ‘package:stats’:\n",
            "\n",
            "    filter, lag\n",
            "\n",
            "\n",
            "The following objects are masked from ‘package:base’:\n",
            "\n",
            "    intersect, setdiff, setequal, union\n",
            "\n",
            "\n"
          ]
        }
      ]
    },
    {
      "cell_type": "code",
      "execution_count": 5,
      "metadata": {
        "colab": {
          "base_uri": "https://localhost:8080/"
        },
        "id": "bBEKRn6f_LZm",
        "outputId": "2165105f-24a4-4055-986e-a620ad8ad9e9"
      },
      "outputs": [
        {
          "output_type": "stream",
          "name": "stderr",
          "text": [
            "\u001b[1mRows: \u001b[22m\u001b[34m891\u001b[39m \u001b[1mColumns: \u001b[22m\u001b[34m12\u001b[39m\n",
            "\u001b[36m──\u001b[39m \u001b[1mColumn specification\u001b[22m \u001b[36m────────────────────────────────────────────────────────\u001b[39m\n",
            "\u001b[1mDelimiter:\u001b[22m \",\"\n",
            "\u001b[31mchr\u001b[39m (5): Name, Sex, Ticket, Cabin, Embarked\n",
            "\u001b[32mdbl\u001b[39m (7): PassengerId, Survived, Pclass, Age, SibSp, Parch, Fare\n",
            "\n",
            "\u001b[36mℹ\u001b[39m Use `spec()` to retrieve the full column specification for this data.\n",
            "\u001b[36mℹ\u001b[39m Specify the column types or set `show_col_types = FALSE` to quiet this message.\n"
          ]
        }
      ],
      "source": [
        "titanic_data <- read_csv(\"train.csv\")"
      ]
    },
    {
      "cell_type": "markdown",
      "source": [
        "#Estructura del dataset"
      ],
      "metadata": {
        "id": "WeNmGO-ppeVo"
      }
    },
    {
      "cell_type": "code",
      "source": [
        "#Ver tipo de datos\n",
        "str(titanic_data)"
      ],
      "metadata": {
        "colab": {
          "base_uri": "https://localhost:8080/"
        },
        "id": "re3VF5ys_PRU",
        "outputId": "19398a5c-9826-41d6-cde3-5777a9aad648"
      },
      "execution_count": 6,
      "outputs": [
        {
          "output_type": "stream",
          "name": "stdout",
          "text": [
            "spc_tbl_ [891 × 12] (S3: spec_tbl_df/tbl_df/tbl/data.frame)\n",
            " $ PassengerId: num [1:891] 1 2 3 4 5 6 7 8 9 10 ...\n",
            " $ Survived   : num [1:891] 0 1 1 1 0 0 0 0 1 1 ...\n",
            " $ Pclass     : num [1:891] 3 1 3 1 3 3 1 3 3 2 ...\n",
            " $ Name       : chr [1:891] \"Braund, Mr. Owen Harris\" \"Cumings, Mrs. John Bradley (Florence Briggs Thayer)\" \"Heikkinen, Miss. Laina\" \"Futrelle, Mrs. Jacques Heath (Lily May Peel)\" ...\n",
            " $ Sex        : chr [1:891] \"male\" \"female\" \"female\" \"female\" ...\n",
            " $ Age        : num [1:891] 22 38 26 35 35 NA 54 2 27 14 ...\n",
            " $ SibSp      : num [1:891] 1 1 0 1 0 0 0 3 0 1 ...\n",
            " $ Parch      : num [1:891] 0 0 0 0 0 0 0 1 2 0 ...\n",
            " $ Ticket     : chr [1:891] \"A/5 21171\" \"PC 17599\" \"STON/O2. 3101282\" \"113803\" ...\n",
            " $ Fare       : num [1:891] 7.25 71.28 7.92 53.1 8.05 ...\n",
            " $ Cabin      : chr [1:891] NA \"C85\" NA \"C123\" ...\n",
            " $ Embarked   : chr [1:891] \"S\" \"C\" \"S\" \"S\" ...\n",
            " - attr(*, \"spec\")=\n",
            "  .. cols(\n",
            "  ..   PassengerId = \u001b[32mcol_double()\u001b[39m,\n",
            "  ..   Survived = \u001b[32mcol_double()\u001b[39m,\n",
            "  ..   Pclass = \u001b[32mcol_double()\u001b[39m,\n",
            "  ..   Name = \u001b[31mcol_character()\u001b[39m,\n",
            "  ..   Sex = \u001b[31mcol_character()\u001b[39m,\n",
            "  ..   Age = \u001b[32mcol_double()\u001b[39m,\n",
            "  ..   SibSp = \u001b[32mcol_double()\u001b[39m,\n",
            "  ..   Parch = \u001b[32mcol_double()\u001b[39m,\n",
            "  ..   Ticket = \u001b[31mcol_character()\u001b[39m,\n",
            "  ..   Fare = \u001b[32mcol_double()\u001b[39m,\n",
            "  ..   Cabin = \u001b[31mcol_character()\u001b[39m,\n",
            "  ..   Embarked = \u001b[31mcol_character()\u001b[39m\n",
            "  .. )\n",
            " - attr(*, \"problems\")=<externalptr> \n"
          ]
        }
      ]
    },
    {
      "cell_type": "code",
      "source": [
        "#Estadístico de la base de datos\n",
        "summary(titanic_data)"
      ],
      "metadata": {
        "colab": {
          "base_uri": "https://localhost:8080/",
          "height": 460
        },
        "id": "WWa9E_QXp-Kr",
        "outputId": "c85c9a7d-85bd-4629-a2ba-60d2afd9a0d9"
      },
      "execution_count": 7,
      "outputs": [
        {
          "output_type": "display_data",
          "data": {
            "text/plain": [
              "  PassengerId       Survived          Pclass          Name          \n",
              " Min.   :  1.0   Min.   :0.0000   Min.   :1.000   Length:891        \n",
              " 1st Qu.:223.5   1st Qu.:0.0000   1st Qu.:2.000   Class :character  \n",
              " Median :446.0   Median :0.0000   Median :3.000   Mode  :character  \n",
              " Mean   :446.0   Mean   :0.3838   Mean   :2.309                     \n",
              " 3rd Qu.:668.5   3rd Qu.:1.0000   3rd Qu.:3.000                     \n",
              " Max.   :891.0   Max.   :1.0000   Max.   :3.000                     \n",
              "                                                                    \n",
              "     Sex                 Age            SibSp           Parch       \n",
              " Length:891         Min.   : 0.42   Min.   :0.000   Min.   :0.0000  \n",
              " Class :character   1st Qu.:20.12   1st Qu.:0.000   1st Qu.:0.0000  \n",
              " Mode  :character   Median :28.00   Median :0.000   Median :0.0000  \n",
              "                    Mean   :29.70   Mean   :0.523   Mean   :0.3816  \n",
              "                    3rd Qu.:38.00   3rd Qu.:1.000   3rd Qu.:0.0000  \n",
              "                    Max.   :80.00   Max.   :8.000   Max.   :6.0000  \n",
              "                    NA's   :177                                     \n",
              "    Ticket               Fare           Cabin             Embarked        \n",
              " Length:891         Min.   :  0.00   Length:891         Length:891        \n",
              " Class :character   1st Qu.:  7.91   Class :character   Class :character  \n",
              " Mode  :character   Median : 14.45   Mode  :character   Mode  :character  \n",
              "                    Mean   : 32.20                                        \n",
              "                    3rd Qu.: 31.00                                        \n",
              "                    Max.   :512.33                                        \n",
              "                                                                          "
            ]
          },
          "metadata": {}
        }
      ]
    },
    {
      "cell_type": "code",
      "source": [
        "#ver las primeras filas para confirmar que las columnas Name y PassengerId no están en nuestro dataset\n",
        "head(titanic_data)"
      ],
      "metadata": {
        "colab": {
          "base_uri": "https://localhost:8080/",
          "height": 286
        },
        "id": "2oYkZHJjr9yU",
        "outputId": "08bfc764-cadc-4622-fded-e7d0e7718691"
      },
      "execution_count": 8,
      "outputs": [
        {
          "output_type": "display_data",
          "data": {
            "text/html": [
              "<table class=\"dataframe\">\n",
              "<caption>A tibble: 6 × 12</caption>\n",
              "<thead>\n",
              "\t<tr><th scope=col>PassengerId</th><th scope=col>Survived</th><th scope=col>Pclass</th><th scope=col>Name</th><th scope=col>Sex</th><th scope=col>Age</th><th scope=col>SibSp</th><th scope=col>Parch</th><th scope=col>Ticket</th><th scope=col>Fare</th><th scope=col>Cabin</th><th scope=col>Embarked</th></tr>\n",
              "\t<tr><th scope=col>&lt;dbl&gt;</th><th scope=col>&lt;dbl&gt;</th><th scope=col>&lt;dbl&gt;</th><th scope=col>&lt;chr&gt;</th><th scope=col>&lt;chr&gt;</th><th scope=col>&lt;dbl&gt;</th><th scope=col>&lt;dbl&gt;</th><th scope=col>&lt;dbl&gt;</th><th scope=col>&lt;chr&gt;</th><th scope=col>&lt;dbl&gt;</th><th scope=col>&lt;chr&gt;</th><th scope=col>&lt;chr&gt;</th></tr>\n",
              "</thead>\n",
              "<tbody>\n",
              "\t<tr><td>1</td><td>0</td><td>3</td><td>Braund, Mr. Owen Harris                            </td><td>male  </td><td>22</td><td>1</td><td>0</td><td>A/5 21171       </td><td> 7.2500</td><td>NA  </td><td>S</td></tr>\n",
              "\t<tr><td>2</td><td>1</td><td>1</td><td>Cumings, Mrs. John Bradley (Florence Briggs Thayer)</td><td>female</td><td>38</td><td>1</td><td>0</td><td>PC 17599        </td><td>71.2833</td><td>C85 </td><td>C</td></tr>\n",
              "\t<tr><td>3</td><td>1</td><td>3</td><td>Heikkinen, Miss. Laina                             </td><td>female</td><td>26</td><td>0</td><td>0</td><td>STON/O2. 3101282</td><td> 7.9250</td><td>NA  </td><td>S</td></tr>\n",
              "\t<tr><td>4</td><td>1</td><td>1</td><td>Futrelle, Mrs. Jacques Heath (Lily May Peel)       </td><td>female</td><td>35</td><td>1</td><td>0</td><td>113803          </td><td>53.1000</td><td>C123</td><td>S</td></tr>\n",
              "\t<tr><td>5</td><td>0</td><td>3</td><td>Allen, Mr. William Henry                           </td><td>male  </td><td>35</td><td>0</td><td>0</td><td>373450          </td><td> 8.0500</td><td>NA  </td><td>S</td></tr>\n",
              "\t<tr><td>6</td><td>0</td><td>3</td><td>Moran, Mr. James                                   </td><td>male  </td><td>NA</td><td>0</td><td>0</td><td>330877          </td><td> 8.4583</td><td>NA  </td><td>Q</td></tr>\n",
              "</tbody>\n",
              "</table>\n"
            ],
            "text/markdown": "\nA tibble: 6 × 12\n\n| PassengerId &lt;dbl&gt; | Survived &lt;dbl&gt; | Pclass &lt;dbl&gt; | Name &lt;chr&gt; | Sex &lt;chr&gt; | Age &lt;dbl&gt; | SibSp &lt;dbl&gt; | Parch &lt;dbl&gt; | Ticket &lt;chr&gt; | Fare &lt;dbl&gt; | Cabin &lt;chr&gt; | Embarked &lt;chr&gt; |\n|---|---|---|---|---|---|---|---|---|---|---|---|\n| 1 | 0 | 3 | Braund, Mr. Owen Harris                             | male   | 22 | 1 | 0 | A/5 21171        |  7.2500 | NA   | S |\n| 2 | 1 | 1 | Cumings, Mrs. John Bradley (Florence Briggs Thayer) | female | 38 | 1 | 0 | PC 17599         | 71.2833 | C85  | C |\n| 3 | 1 | 3 | Heikkinen, Miss. Laina                              | female | 26 | 0 | 0 | STON/O2. 3101282 |  7.9250 | NA   | S |\n| 4 | 1 | 1 | Futrelle, Mrs. Jacques Heath (Lily May Peel)        | female | 35 | 1 | 0 | 113803           | 53.1000 | C123 | S |\n| 5 | 0 | 3 | Allen, Mr. William Henry                            | male   | 35 | 0 | 0 | 373450           |  8.0500 | NA   | S |\n| 6 | 0 | 3 | Moran, Mr. James                                    | male   | NA | 0 | 0 | 330877           |  8.4583 | NA   | Q |\n\n",
            "text/latex": "A tibble: 6 × 12\n\\begin{tabular}{llllllllllll}\n PassengerId & Survived & Pclass & Name & Sex & Age & SibSp & Parch & Ticket & Fare & Cabin & Embarked\\\\\n <dbl> & <dbl> & <dbl> & <chr> & <chr> & <dbl> & <dbl> & <dbl> & <chr> & <dbl> & <chr> & <chr>\\\\\n\\hline\n\t 1 & 0 & 3 & Braund, Mr. Owen Harris                             & male   & 22 & 1 & 0 & A/5 21171        &  7.2500 & NA   & S\\\\\n\t 2 & 1 & 1 & Cumings, Mrs. John Bradley (Florence Briggs Thayer) & female & 38 & 1 & 0 & PC 17599         & 71.2833 & C85  & C\\\\\n\t 3 & 1 & 3 & Heikkinen, Miss. Laina                              & female & 26 & 0 & 0 & STON/O2. 3101282 &  7.9250 & NA   & S\\\\\n\t 4 & 1 & 1 & Futrelle, Mrs. Jacques Heath (Lily May Peel)        & female & 35 & 1 & 0 & 113803           & 53.1000 & C123 & S\\\\\n\t 5 & 0 & 3 & Allen, Mr. William Henry                            & male   & 35 & 0 & 0 & 373450           &  8.0500 & NA   & S\\\\\n\t 6 & 0 & 3 & Moran, Mr. James                                    & male   & NA & 0 & 0 & 330877           &  8.4583 & NA   & Q\\\\\n\\end{tabular}\n",
            "text/plain": [
              "  PassengerId Survived Pclass\n",
              "1 1           0        3     \n",
              "2 2           1        1     \n",
              "3 3           1        3     \n",
              "4 4           1        1     \n",
              "5 5           0        3     \n",
              "6 6           0        3     \n",
              "  Name                                                Sex    Age SibSp Parch\n",
              "1 Braund, Mr. Owen Harris                             male   22  1     0    \n",
              "2 Cumings, Mrs. John Bradley (Florence Briggs Thayer) female 38  1     0    \n",
              "3 Heikkinen, Miss. Laina                              female 26  0     0    \n",
              "4 Futrelle, Mrs. Jacques Heath (Lily May Peel)        female 35  1     0    \n",
              "5 Allen, Mr. William Henry                            male   35  0     0    \n",
              "6 Moran, Mr. James                                    male   NA  0     0    \n",
              "  Ticket           Fare    Cabin Embarked\n",
              "1 A/5 21171         7.2500 NA    S       \n",
              "2 PC 17599         71.2833 C85   C       \n",
              "3 STON/O2. 3101282  7.9250 NA    S       \n",
              "4 113803           53.1000 C123  S       \n",
              "5 373450            8.0500 NA    S       \n",
              "6 330877            8.4583 NA    Q       "
            ]
          },
          "metadata": {}
        }
      ]
    },
    {
      "cell_type": "code",
      "source": [
        "#Ver solo nombre de las columnas\n",
        "colnames(titanic_data)"
      ],
      "metadata": {
        "colab": {
          "base_uri": "https://localhost:8080/",
          "height": 34
        },
        "id": "sWCtDwEBsWBs",
        "outputId": "b35d3e9d-a39c-4678-9a57-6d4714b0bee1"
      },
      "execution_count": 9,
      "outputs": [
        {
          "output_type": "display_data",
          "data": {
            "text/html": [
              "<style>\n",
              ".list-inline {list-style: none; margin:0; padding: 0}\n",
              ".list-inline>li {display: inline-block}\n",
              ".list-inline>li:not(:last-child)::after {content: \"\\00b7\"; padding: 0 .5ex}\n",
              "</style>\n",
              "<ol class=list-inline><li>'PassengerId'</li><li>'Survived'</li><li>'Pclass'</li><li>'Name'</li><li>'Sex'</li><li>'Age'</li><li>'SibSp'</li><li>'Parch'</li><li>'Ticket'</li><li>'Fare'</li><li>'Cabin'</li><li>'Embarked'</li></ol>\n"
            ],
            "text/markdown": "1. 'PassengerId'\n2. 'Survived'\n3. 'Pclass'\n4. 'Name'\n5. 'Sex'\n6. 'Age'\n7. 'SibSp'\n8. 'Parch'\n9. 'Ticket'\n10. 'Fare'\n11. 'Cabin'\n12. 'Embarked'\n\n\n",
            "text/latex": "\\begin{enumerate*}\n\\item 'PassengerId'\n\\item 'Survived'\n\\item 'Pclass'\n\\item 'Name'\n\\item 'Sex'\n\\item 'Age'\n\\item 'SibSp'\n\\item 'Parch'\n\\item 'Ticket'\n\\item 'Fare'\n\\item 'Cabin'\n\\item 'Embarked'\n\\end{enumerate*}\n",
            "text/plain": [
              " [1] \"PassengerId\" \"Survived\"    \"Pclass\"      \"Name\"        \"Sex\"        \n",
              " [6] \"Age\"         \"SibSp\"       \"Parch\"       \"Ticket\"      \"Fare\"       \n",
              "[11] \"Cabin\"       \"Embarked\"   "
            ]
          },
          "metadata": {}
        }
      ]
    },
    {
      "cell_type": "markdown",
      "source": [
        "#Data cleaning"
      ],
      "metadata": {
        "id": "_KIXvwq7df57"
      }
    },
    {
      "cell_type": "code",
      "source": [
        "#contar el núm de columnas nulls\n",
        "null_counts <- colSums(is.na(titanic_data))\n",
        "null_counts #ver columnas con sus respetivos nulls\n",
        "null_counts>0"
      ],
      "metadata": {
        "colab": {
          "base_uri": "https://localhost:8080/",
          "height": 69
        },
        "id": "nPFUtQFfs1rI",
        "outputId": "3ee26c08-a5b4-441c-b7df-e7be1acca422"
      },
      "execution_count": 10,
      "outputs": [
        {
          "output_type": "display_data",
          "data": {
            "text/html": [
              "<style>\n",
              ".dl-inline {width: auto; margin:0; padding: 0}\n",
              ".dl-inline>dt, .dl-inline>dd {float: none; width: auto; display: inline-block}\n",
              ".dl-inline>dt::after {content: \":\\0020\"; padding-right: .5ex}\n",
              ".dl-inline>dt:not(:first-of-type) {padding-left: .5ex}\n",
              "</style><dl class=dl-inline><dt>PassengerId</dt><dd>0</dd><dt>Survived</dt><dd>0</dd><dt>Pclass</dt><dd>0</dd><dt>Name</dt><dd>0</dd><dt>Sex</dt><dd>0</dd><dt>Age</dt><dd>177</dd><dt>SibSp</dt><dd>0</dd><dt>Parch</dt><dd>0</dd><dt>Ticket</dt><dd>0</dd><dt>Fare</dt><dd>0</dd><dt>Cabin</dt><dd>687</dd><dt>Embarked</dt><dd>2</dd></dl>\n"
            ],
            "text/markdown": "PassengerId\n:   0Survived\n:   0Pclass\n:   0Name\n:   0Sex\n:   0Age\n:   177SibSp\n:   0Parch\n:   0Ticket\n:   0Fare\n:   0Cabin\n:   687Embarked\n:   2\n\n",
            "text/latex": "\\begin{description*}\n\\item[PassengerId] 0\n\\item[Survived] 0\n\\item[Pclass] 0\n\\item[Name] 0\n\\item[Sex] 0\n\\item[Age] 177\n\\item[SibSp] 0\n\\item[Parch] 0\n\\item[Ticket] 0\n\\item[Fare] 0\n\\item[Cabin] 687\n\\item[Embarked] 2\n\\end{description*}\n",
            "text/plain": [
              "PassengerId    Survived      Pclass        Name         Sex         Age \n",
              "          0           0           0           0           0         177 \n",
              "      SibSp       Parch      Ticket        Fare       Cabin    Embarked \n",
              "          0           0           0           0         687           2 "
            ]
          },
          "metadata": {}
        },
        {
          "output_type": "display_data",
          "data": {
            "text/html": [
              "<style>\n",
              ".dl-inline {width: auto; margin:0; padding: 0}\n",
              ".dl-inline>dt, .dl-inline>dd {float: none; width: auto; display: inline-block}\n",
              ".dl-inline>dt::after {content: \":\\0020\"; padding-right: .5ex}\n",
              ".dl-inline>dt:not(:first-of-type) {padding-left: .5ex}\n",
              "</style><dl class=dl-inline><dt>PassengerId</dt><dd>FALSE</dd><dt>Survived</dt><dd>FALSE</dd><dt>Pclass</dt><dd>FALSE</dd><dt>Name</dt><dd>FALSE</dd><dt>Sex</dt><dd>FALSE</dd><dt>Age</dt><dd>TRUE</dd><dt>SibSp</dt><dd>FALSE</dd><dt>Parch</dt><dd>FALSE</dd><dt>Ticket</dt><dd>FALSE</dd><dt>Fare</dt><dd>FALSE</dd><dt>Cabin</dt><dd>TRUE</dd><dt>Embarked</dt><dd>TRUE</dd></dl>\n"
            ],
            "text/markdown": "PassengerId\n:   FALSESurvived\n:   FALSEPclass\n:   FALSEName\n:   FALSESex\n:   FALSEAge\n:   TRUESibSp\n:   FALSEParch\n:   FALSETicket\n:   FALSEFare\n:   FALSECabin\n:   TRUEEmbarked\n:   TRUE\n\n",
            "text/latex": "\\begin{description*}\n\\item[PassengerId] FALSE\n\\item[Survived] FALSE\n\\item[Pclass] FALSE\n\\item[Name] FALSE\n\\item[Sex] FALSE\n\\item[Age] TRUE\n\\item[SibSp] FALSE\n\\item[Parch] FALSE\n\\item[Ticket] FALSE\n\\item[Fare] FALSE\n\\item[Cabin] TRUE\n\\item[Embarked] TRUE\n\\end{description*}\n",
            "text/plain": [
              "PassengerId    Survived      Pclass        Name         Sex         Age \n",
              "      FALSE       FALSE       FALSE       FALSE       FALSE        TRUE \n",
              "      SibSp       Parch      Ticket        Fare       Cabin    Embarked \n",
              "      FALSE       FALSE       FALSE       FALSE        TRUE        TRUE "
            ]
          },
          "metadata": {}
        }
      ]
    },
    {
      "cell_type": "code",
      "source": [
        "#Ver el % de valores nulls que tiene cada columna NUMERICA\n",
        "\n",
        "null_percentage <- colSums(is.na(titanic_data)) / nrow(titanic_data) * 100\n",
        "null_percentage"
      ],
      "metadata": {
        "colab": {
          "base_uri": "https://localhost:8080/",
          "height": 34
        },
        "id": "dwQfXf7qtcgY",
        "outputId": "84bd79b1-a034-40ef-9606-33e50206adcf"
      },
      "execution_count": 11,
      "outputs": [
        {
          "output_type": "display_data",
          "data": {
            "text/html": [
              "<style>\n",
              ".dl-inline {width: auto; margin:0; padding: 0}\n",
              ".dl-inline>dt, .dl-inline>dd {float: none; width: auto; display: inline-block}\n",
              ".dl-inline>dt::after {content: \":\\0020\"; padding-right: .5ex}\n",
              ".dl-inline>dt:not(:first-of-type) {padding-left: .5ex}\n",
              "</style><dl class=dl-inline><dt>PassengerId</dt><dd>0</dd><dt>Survived</dt><dd>0</dd><dt>Pclass</dt><dd>0</dd><dt>Name</dt><dd>0</dd><dt>Sex</dt><dd>0</dd><dt>Age</dt><dd>19.8653198653199</dd><dt>SibSp</dt><dd>0</dd><dt>Parch</dt><dd>0</dd><dt>Ticket</dt><dd>0</dd><dt>Fare</dt><dd>0</dd><dt>Cabin</dt><dd>77.1043771043771</dd><dt>Embarked</dt><dd>0.224466891133558</dd></dl>\n"
            ],
            "text/markdown": "PassengerId\n:   0Survived\n:   0Pclass\n:   0Name\n:   0Sex\n:   0Age\n:   19.8653198653199SibSp\n:   0Parch\n:   0Ticket\n:   0Fare\n:   0Cabin\n:   77.1043771043771Embarked\n:   0.224466891133558\n\n",
            "text/latex": "\\begin{description*}\n\\item[PassengerId] 0\n\\item[Survived] 0\n\\item[Pclass] 0\n\\item[Name] 0\n\\item[Sex] 0\n\\item[Age] 19.8653198653199\n\\item[SibSp] 0\n\\item[Parch] 0\n\\item[Ticket] 0\n\\item[Fare] 0\n\\item[Cabin] 77.1043771043771\n\\item[Embarked] 0.224466891133558\n\\end{description*}\n",
            "text/plain": [
              "PassengerId    Survived      Pclass        Name         Sex         Age \n",
              "  0.0000000   0.0000000   0.0000000   0.0000000   0.0000000  19.8653199 \n",
              "      SibSp       Parch      Ticket        Fare       Cabin    Embarked \n",
              "  0.0000000   0.0000000   0.0000000   0.0000000  77.1043771   0.2244669 "
            ]
          },
          "metadata": {}
        }
      ]
    },
    {
      "cell_type": "code",
      "source": [
        "#Eliminar la columna; en este caso eliminaré la columna Cabin\n",
        "\n",
        "titanic_data <- select(titanic_data, -c(Cabin ))\n",
        "print(titanic_data)"
      ],
      "metadata": {
        "colab": {
          "base_uri": "https://localhost:8080/"
        },
        "id": "cE4bQ2qtqLSi",
        "outputId": "867f825e-5fac-440a-9577-48c412bfe09f"
      },
      "execution_count": 12,
      "outputs": [
        {
          "output_type": "stream",
          "name": "stdout",
          "text": [
            "\u001b[90m# A tibble: 891 × 11\u001b[39m\n",
            "   PassengerId Survived Pclass Name         Sex     Age SibSp Parch Ticket  Fare\n",
            "         \u001b[3m\u001b[90m<dbl>\u001b[39m\u001b[23m    \u001b[3m\u001b[90m<dbl>\u001b[39m\u001b[23m  \u001b[3m\u001b[90m<dbl>\u001b[39m\u001b[23m \u001b[3m\u001b[90m<chr>\u001b[39m\u001b[23m        \u001b[3m\u001b[90m<chr>\u001b[39m\u001b[23m \u001b[3m\u001b[90m<dbl>\u001b[39m\u001b[23m \u001b[3m\u001b[90m<dbl>\u001b[39m\u001b[23m \u001b[3m\u001b[90m<dbl>\u001b[39m\u001b[23m \u001b[3m\u001b[90m<chr>\u001b[39m\u001b[23m  \u001b[3m\u001b[90m<dbl>\u001b[39m\u001b[23m\n",
            "\u001b[90m 1\u001b[39m           1        0      3 Braund, Mr.… male     22     1     0 A/5 2…  7.25\n",
            "\u001b[90m 2\u001b[39m           2        1      1 Cumings, Mr… fema…    38     1     0 PC 17… 71.3 \n",
            "\u001b[90m 3\u001b[39m           3        1      3 Heikkinen, … fema…    26     0     0 STON/…  7.92\n",
            "\u001b[90m 4\u001b[39m           4        1      1 Futrelle, M… fema…    35     1     0 113803 53.1 \n",
            "\u001b[90m 5\u001b[39m           5        0      3 Allen, Mr. … male     35     0     0 373450  8.05\n",
            "\u001b[90m 6\u001b[39m           6        0      3 Moran, Mr. … male     \u001b[31mNA\u001b[39m     0     0 330877  8.46\n",
            "\u001b[90m 7\u001b[39m           7        0      1 McCarthy, M… male     54     0     0 17463  51.9 \n",
            "\u001b[90m 8\u001b[39m           8        0      3 Palsson, Ma… male      2     3     1 349909 21.1 \n",
            "\u001b[90m 9\u001b[39m           9        1      3 Johnson, Mr… fema…    27     0     2 347742 11.1 \n",
            "\u001b[90m10\u001b[39m          10        1      2 Nasser, Mrs… fema…    14     1     0 237736 30.1 \n",
            "\u001b[90m# ℹ 881 more rows\u001b[39m\n",
            "\u001b[90m# ℹ 1 more variable: Embarked <chr>\u001b[39m\n"
          ]
        }
      ]
    },
    {
      "cell_type": "code",
      "source": [
        "#Rellenar columna con AGE con el promedio:\n",
        "selected_cols <- c(\"Age\", \"Embarked\")\n",
        "head(titanic_data[, selected_cols])"
      ],
      "metadata": {
        "colab": {
          "base_uri": "https://localhost:8080/",
          "height": 286
        },
        "id": "ZUeCXq4Iu69v",
        "outputId": "093ff6ab-c2bf-4a04-9fd8-e4178d03ae91"
      },
      "execution_count": 13,
      "outputs": [
        {
          "output_type": "display_data",
          "data": {
            "text/html": [
              "<table class=\"dataframe\">\n",
              "<caption>A tibble: 6 × 2</caption>\n",
              "<thead>\n",
              "\t<tr><th scope=col>Age</th><th scope=col>Embarked</th></tr>\n",
              "\t<tr><th scope=col>&lt;dbl&gt;</th><th scope=col>&lt;chr&gt;</th></tr>\n",
              "</thead>\n",
              "<tbody>\n",
              "\t<tr><td>22</td><td>S</td></tr>\n",
              "\t<tr><td>38</td><td>C</td></tr>\n",
              "\t<tr><td>26</td><td>S</td></tr>\n",
              "\t<tr><td>35</td><td>S</td></tr>\n",
              "\t<tr><td>35</td><td>S</td></tr>\n",
              "\t<tr><td>NA</td><td>Q</td></tr>\n",
              "</tbody>\n",
              "</table>\n"
            ],
            "text/markdown": "\nA tibble: 6 × 2\n\n| Age &lt;dbl&gt; | Embarked &lt;chr&gt; |\n|---|---|\n| 22 | S |\n| 38 | C |\n| 26 | S |\n| 35 | S |\n| 35 | S |\n| NA | Q |\n\n",
            "text/latex": "A tibble: 6 × 2\n\\begin{tabular}{ll}\n Age & Embarked\\\\\n <dbl> & <chr>\\\\\n\\hline\n\t 22 & S\\\\\n\t 38 & C\\\\\n\t 26 & S\\\\\n\t 35 & S\\\\\n\t 35 & S\\\\\n\t NA & Q\\\\\n\\end{tabular}\n",
            "text/plain": [
              "  Age Embarked\n",
              "1 22  S       \n",
              "2 38  C       \n",
              "3 26  S       \n",
              "4 35  S       \n",
              "5 35  S       \n",
              "6 NA  Q       "
            ]
          },
          "metadata": {}
        }
      ]
    },
    {
      "cell_type": "code",
      "source": [
        "#Rellenar con el PROMEDIO la columna AGe, esto debido a que tiene 177 valores null\n",
        "\n",
        "#obtner la media de la columna AGE\n",
        "age_mean <- mean(titanic_data$Age, na.rm =TRUE)\n",
        "\n",
        "#Rellenar con el promedio anterior los datos faltantes de la columna AGE\n",
        "titanic_data$Age[is.na(titanic_data$Age)] <- age_mean\n",
        "\n",
        "#Verificar que datos faltantes esten rellenados\n",
        "print(sum(is.na(titanic_data$Age))) #suma valores nulls debería ser CERO debido a que ya se rellenó con el primedio"
      ],
      "metadata": {
        "colab": {
          "base_uri": "https://localhost:8080/"
        },
        "id": "tPcL63XdxZ2O",
        "outputId": "cfa32646-172c-4c2a-9e71-55dea71009eb"
      },
      "execution_count": 14,
      "outputs": [
        {
          "output_type": "stream",
          "name": "stdout",
          "text": [
            "[1] 0\n"
          ]
        }
      ]
    },
    {
      "cell_type": "code",
      "source": [
        "selected_cols <- c(\"Age\")\n",
        "head(titanic_data[, selected_cols])"
      ],
      "metadata": {
        "colab": {
          "base_uri": "https://localhost:8080/",
          "height": 303
        },
        "id": "Z5tBRcTn17M2",
        "outputId": "1eaa85aa-0969-4a84-8e25-692470e9117e"
      },
      "execution_count": 15,
      "outputs": [
        {
          "output_type": "display_data",
          "data": {
            "text/html": [
              "<table class=\"dataframe\">\n",
              "<caption>A tibble: 6 × 1</caption>\n",
              "<thead>\n",
              "\t<tr><th scope=col>Age</th></tr>\n",
              "\t<tr><th scope=col>&lt;dbl&gt;</th></tr>\n",
              "</thead>\n",
              "<tbody>\n",
              "\t<tr><td>22.00000</td></tr>\n",
              "\t<tr><td>38.00000</td></tr>\n",
              "\t<tr><td>26.00000</td></tr>\n",
              "\t<tr><td>35.00000</td></tr>\n",
              "\t<tr><td>35.00000</td></tr>\n",
              "\t<tr><td>29.69912</td></tr>\n",
              "</tbody>\n",
              "</table>\n"
            ],
            "text/markdown": "\nA tibble: 6 × 1\n\n| Age &lt;dbl&gt; |\n|---|\n| 22.00000 |\n| 38.00000 |\n| 26.00000 |\n| 35.00000 |\n| 35.00000 |\n| 29.69912 |\n\n",
            "text/latex": "A tibble: 6 × 1\n\\begin{tabular}{l}\n Age\\\\\n <dbl>\\\\\n\\hline\n\t 22.00000\\\\\n\t 38.00000\\\\\n\t 26.00000\\\\\n\t 35.00000\\\\\n\t 35.00000\\\\\n\t 29.69912\\\\\n\\end{tabular}\n",
            "text/plain": [
              "  Age     \n",
              "1 22.00000\n",
              "2 38.00000\n",
              "3 26.00000\n",
              "4 35.00000\n",
              "5 35.00000\n",
              "6 29.69912"
            ]
          },
          "metadata": {}
        }
      ]
    },
    {
      "cell_type": "code",
      "source": [
        "##Rellenar la columna SEX y Embarked con la moda, debio a que son columas catégoricas y tienen nulls\n",
        "\n",
        "#función para calcular moda\n",
        "calculate_mode <- function(x) {\n",
        "  uniqx <- unique(x)\n",
        "  uniqx[which.max(tabulate(match(x, uniqx)))]\n",
        "}\n",
        "\n",
        "\n",
        "#Calcular la moda para las columnas con valores faltantes\n",
        "moda_sex <- calculate_mode(titanic_data$Sex)\n",
        "moda_embarked <- calculate_mode(titanic_data$Embarked)\n",
        "\n",
        "\n",
        "#Rellenar los valores faltantes en las columnas con sus respectivas modas\n",
        "titanic_data$Sex[is.na(titanic_data$Age)] <- moda_sex\n",
        "titanic_data$Embarked[is.na(titanic_data$Embarked)] <- moda_embarked\n",
        "\n",
        "#verificar que los valores faltantes haya sido rellenados\n",
        "print(sum(is.na(titanic_data$Sex))) #debería ser CERO pues ya se rellenó\n",
        "print(sum(is.na(titanic_data$Embarked))) #debería ser CERO pues ya se rellenó\n"
      ],
      "metadata": {
        "colab": {
          "base_uri": "https://localhost:8080/"
        },
        "id": "IYljKsSY2Hzo",
        "outputId": "4ee488be-2ba5-400d-cfb9-57737d907e71"
      },
      "execution_count": 16,
      "outputs": [
        {
          "output_type": "stream",
          "name": "stdout",
          "text": [
            "[1] 0\n",
            "[1] 0\n"
          ]
        }
      ]
    },
    {
      "cell_type": "code",
      "source": [
        "#contar el núm de columnas nulls\n",
        "null_counts <- colSums(is.na(titanic_data))\n",
        "null_counts"
      ],
      "metadata": {
        "colab": {
          "base_uri": "https://localhost:8080/",
          "height": 34
        },
        "id": "hqSF2cXF5Ze4",
        "outputId": "26e14798-abb1-4c31-b7ff-3db3bb6adbd7"
      },
      "execution_count": 19,
      "outputs": [
        {
          "output_type": "display_data",
          "data": {
            "text/html": [
              "<style>\n",
              ".dl-inline {width: auto; margin:0; padding: 0}\n",
              ".dl-inline>dt, .dl-inline>dd {float: none; width: auto; display: inline-block}\n",
              ".dl-inline>dt::after {content: \":\\0020\"; padding-right: .5ex}\n",
              ".dl-inline>dt:not(:first-of-type) {padding-left: .5ex}\n",
              "</style><dl class=dl-inline><dt>PassengerId</dt><dd>0</dd><dt>Survived</dt><dd>0</dd><dt>Pclass</dt><dd>0</dd><dt>Name</dt><dd>0</dd><dt>Sex</dt><dd>0</dd><dt>Age</dt><dd>0</dd><dt>SibSp</dt><dd>0</dd><dt>Parch</dt><dd>0</dd><dt>Ticket</dt><dd>0</dd><dt>Fare</dt><dd>0</dd><dt>Embarked</dt><dd>0</dd></dl>\n"
            ],
            "text/markdown": "PassengerId\n:   0Survived\n:   0Pclass\n:   0Name\n:   0Sex\n:   0Age\n:   0SibSp\n:   0Parch\n:   0Ticket\n:   0Fare\n:   0Embarked\n:   0\n\n",
            "text/latex": "\\begin{description*}\n\\item[PassengerId] 0\n\\item[Survived] 0\n\\item[Pclass] 0\n\\item[Name] 0\n\\item[Sex] 0\n\\item[Age] 0\n\\item[SibSp] 0\n\\item[Parch] 0\n\\item[Ticket] 0\n\\item[Fare] 0\n\\item[Embarked] 0\n\\end{description*}\n",
            "text/plain": [
              "PassengerId    Survived      Pclass        Name         Sex         Age \n",
              "          0           0           0           0           0           0 \n",
              "      SibSp       Parch      Ticket        Fare    Embarked \n",
              "          0           0           0           0           0 "
            ]
          },
          "metadata": {}
        }
      ]
    },
    {
      "cell_type": "code",
      "source": [
        "#datos categóricos--->dummies\n",
        "\n",
        "# Convertir variable Sex en dummies\n",
        "sex_dummies <- model.matrix( ~ Sex -1, data=titanic_data)# -1 para evitar la columna de intercepto\n",
        "\n",
        "#convertir variable Embarked en dummies\n",
        "embarked_dummies <- model.matrix( ~ Embarked - 1, data = titanic_data)\n",
        "\n",
        "\n",
        "#Añadir los dummies al dataset orginal\n",
        "titanic_data <- cbind(titanic_data, sex_dummies)\n",
        "titanic_data <- cbind(titanic_data, embarked_dummies)\n",
        "\n",
        "\n",
        "#Eliminar la columna original categóricas en caso de que se requiera\n",
        "titanic_data <- titanic_data[ , !names(titanic_data) %in% c (\"Sex\", \"Embarked\")]\n",
        "\n",
        "#ver lo cambios\n",
        "head(titanic_data)"
      ],
      "metadata": {
        "colab": {
          "base_uri": "https://localhost:8080/",
          "height": 286
        },
        "id": "QGsZIZSkX6ka",
        "outputId": "78974e62-a9d6-4029-85b3-7236bba7f425"
      },
      "execution_count": 20,
      "outputs": [
        {
          "output_type": "display_data",
          "data": {
            "text/html": [
              "<table class=\"dataframe\">\n",
              "<caption>A data.frame: 6 × 14</caption>\n",
              "<thead>\n",
              "\t<tr><th></th><th scope=col>PassengerId</th><th scope=col>Survived</th><th scope=col>Pclass</th><th scope=col>Name</th><th scope=col>Age</th><th scope=col>SibSp</th><th scope=col>Parch</th><th scope=col>Ticket</th><th scope=col>Fare</th><th scope=col>Sexfemale</th><th scope=col>Sexmale</th><th scope=col>EmbarkedC</th><th scope=col>EmbarkedQ</th><th scope=col>EmbarkedS</th></tr>\n",
              "\t<tr><th></th><th scope=col>&lt;dbl&gt;</th><th scope=col>&lt;dbl&gt;</th><th scope=col>&lt;dbl&gt;</th><th scope=col>&lt;chr&gt;</th><th scope=col>&lt;dbl&gt;</th><th scope=col>&lt;dbl&gt;</th><th scope=col>&lt;dbl&gt;</th><th scope=col>&lt;chr&gt;</th><th scope=col>&lt;dbl&gt;</th><th scope=col>&lt;dbl&gt;</th><th scope=col>&lt;dbl&gt;</th><th scope=col>&lt;dbl&gt;</th><th scope=col>&lt;dbl&gt;</th><th scope=col>&lt;dbl&gt;</th></tr>\n",
              "</thead>\n",
              "<tbody>\n",
              "\t<tr><th scope=row>1</th><td>1</td><td>0</td><td>3</td><td>Braund, Mr. Owen Harris                            </td><td>22.00000</td><td>1</td><td>0</td><td>A/5 21171       </td><td> 7.2500</td><td>0</td><td>1</td><td>0</td><td>0</td><td>1</td></tr>\n",
              "\t<tr><th scope=row>2</th><td>2</td><td>1</td><td>1</td><td>Cumings, Mrs. John Bradley (Florence Briggs Thayer)</td><td>38.00000</td><td>1</td><td>0</td><td>PC 17599        </td><td>71.2833</td><td>1</td><td>0</td><td>1</td><td>0</td><td>0</td></tr>\n",
              "\t<tr><th scope=row>3</th><td>3</td><td>1</td><td>3</td><td>Heikkinen, Miss. Laina                             </td><td>26.00000</td><td>0</td><td>0</td><td>STON/O2. 3101282</td><td> 7.9250</td><td>1</td><td>0</td><td>0</td><td>0</td><td>1</td></tr>\n",
              "\t<tr><th scope=row>4</th><td>4</td><td>1</td><td>1</td><td>Futrelle, Mrs. Jacques Heath (Lily May Peel)       </td><td>35.00000</td><td>1</td><td>0</td><td>113803          </td><td>53.1000</td><td>1</td><td>0</td><td>0</td><td>0</td><td>1</td></tr>\n",
              "\t<tr><th scope=row>5</th><td>5</td><td>0</td><td>3</td><td>Allen, Mr. William Henry                           </td><td>35.00000</td><td>0</td><td>0</td><td>373450          </td><td> 8.0500</td><td>0</td><td>1</td><td>0</td><td>0</td><td>1</td></tr>\n",
              "\t<tr><th scope=row>6</th><td>6</td><td>0</td><td>3</td><td>Moran, Mr. James                                   </td><td>29.69912</td><td>0</td><td>0</td><td>330877          </td><td> 8.4583</td><td>0</td><td>1</td><td>0</td><td>1</td><td>0</td></tr>\n",
              "</tbody>\n",
              "</table>\n"
            ],
            "text/markdown": "\nA data.frame: 6 × 14\n\n| <!--/--> | PassengerId &lt;dbl&gt; | Survived &lt;dbl&gt; | Pclass &lt;dbl&gt; | Name &lt;chr&gt; | Age &lt;dbl&gt; | SibSp &lt;dbl&gt; | Parch &lt;dbl&gt; | Ticket &lt;chr&gt; | Fare &lt;dbl&gt; | Sexfemale &lt;dbl&gt; | Sexmale &lt;dbl&gt; | EmbarkedC &lt;dbl&gt; | EmbarkedQ &lt;dbl&gt; | EmbarkedS &lt;dbl&gt; |\n|---|---|---|---|---|---|---|---|---|---|---|---|---|---|---|\n| 1 | 1 | 0 | 3 | Braund, Mr. Owen Harris                             | 22.00000 | 1 | 0 | A/5 21171        |  7.2500 | 0 | 1 | 0 | 0 | 1 |\n| 2 | 2 | 1 | 1 | Cumings, Mrs. John Bradley (Florence Briggs Thayer) | 38.00000 | 1 | 0 | PC 17599         | 71.2833 | 1 | 0 | 1 | 0 | 0 |\n| 3 | 3 | 1 | 3 | Heikkinen, Miss. Laina                              | 26.00000 | 0 | 0 | STON/O2. 3101282 |  7.9250 | 1 | 0 | 0 | 0 | 1 |\n| 4 | 4 | 1 | 1 | Futrelle, Mrs. Jacques Heath (Lily May Peel)        | 35.00000 | 1 | 0 | 113803           | 53.1000 | 1 | 0 | 0 | 0 | 1 |\n| 5 | 5 | 0 | 3 | Allen, Mr. William Henry                            | 35.00000 | 0 | 0 | 373450           |  8.0500 | 0 | 1 | 0 | 0 | 1 |\n| 6 | 6 | 0 | 3 | Moran, Mr. James                                    | 29.69912 | 0 | 0 | 330877           |  8.4583 | 0 | 1 | 0 | 1 | 0 |\n\n",
            "text/latex": "A data.frame: 6 × 14\n\\begin{tabular}{r|llllllllllllll}\n  & PassengerId & Survived & Pclass & Name & Age & SibSp & Parch & Ticket & Fare & Sexfemale & Sexmale & EmbarkedC & EmbarkedQ & EmbarkedS\\\\\n  & <dbl> & <dbl> & <dbl> & <chr> & <dbl> & <dbl> & <dbl> & <chr> & <dbl> & <dbl> & <dbl> & <dbl> & <dbl> & <dbl>\\\\\n\\hline\n\t1 & 1 & 0 & 3 & Braund, Mr. Owen Harris                             & 22.00000 & 1 & 0 & A/5 21171        &  7.2500 & 0 & 1 & 0 & 0 & 1\\\\\n\t2 & 2 & 1 & 1 & Cumings, Mrs. John Bradley (Florence Briggs Thayer) & 38.00000 & 1 & 0 & PC 17599         & 71.2833 & 1 & 0 & 1 & 0 & 0\\\\\n\t3 & 3 & 1 & 3 & Heikkinen, Miss. Laina                              & 26.00000 & 0 & 0 & STON/O2. 3101282 &  7.9250 & 1 & 0 & 0 & 0 & 1\\\\\n\t4 & 4 & 1 & 1 & Futrelle, Mrs. Jacques Heath (Lily May Peel)        & 35.00000 & 1 & 0 & 113803           & 53.1000 & 1 & 0 & 0 & 0 & 1\\\\\n\t5 & 5 & 0 & 3 & Allen, Mr. William Henry                            & 35.00000 & 0 & 0 & 373450           &  8.0500 & 0 & 1 & 0 & 0 & 1\\\\\n\t6 & 6 & 0 & 3 & Moran, Mr. James                                    & 29.69912 & 0 & 0 & 330877           &  8.4583 & 0 & 1 & 0 & 1 & 0\\\\\n\\end{tabular}\n",
            "text/plain": [
              "  PassengerId Survived Pclass\n",
              "1 1           0        3     \n",
              "2 2           1        1     \n",
              "3 3           1        3     \n",
              "4 4           1        1     \n",
              "5 5           0        3     \n",
              "6 6           0        3     \n",
              "  Name                                                Age      SibSp Parch\n",
              "1 Braund, Mr. Owen Harris                             22.00000 1     0    \n",
              "2 Cumings, Mrs. John Bradley (Florence Briggs Thayer) 38.00000 1     0    \n",
              "3 Heikkinen, Miss. Laina                              26.00000 0     0    \n",
              "4 Futrelle, Mrs. Jacques Heath (Lily May Peel)        35.00000 1     0    \n",
              "5 Allen, Mr. William Henry                            35.00000 0     0    \n",
              "6 Moran, Mr. James                                    29.69912 0     0    \n",
              "  Ticket           Fare    Sexfemale Sexmale EmbarkedC EmbarkedQ EmbarkedS\n",
              "1 A/5 21171         7.2500 0         1       0         0         1        \n",
              "2 PC 17599         71.2833 1         0       1         0         0        \n",
              "3 STON/O2. 3101282  7.9250 1         0       0         0         1        \n",
              "4 113803           53.1000 1         0       0         0         1        \n",
              "5 373450            8.0500 0         1       0         0         1        \n",
              "6 330877            8.4583 0         1       0         1         0        "
            ]
          },
          "metadata": {}
        }
      ]
    },
    {
      "cell_type": "code",
      "source": [
        "head(titanic_data[, \"Sexmale\"])"
      ],
      "metadata": {
        "colab": {
          "base_uri": "https://localhost:8080/",
          "height": 34
        },
        "id": "mXiCvuvVbLSM",
        "outputId": "beb00a9d-d3c0-4891-a278-278fac6b1f92"
      },
      "execution_count": 30,
      "outputs": [
        {
          "output_type": "display_data",
          "data": {
            "text/html": [
              "<style>\n",
              ".list-inline {list-style: none; margin:0; padding: 0}\n",
              ".list-inline>li {display: inline-block}\n",
              ".list-inline>li:not(:last-child)::after {content: \"\\00b7\"; padding: 0 .5ex}\n",
              "</style>\n",
              "<ol class=list-inline><li>1</li><li>0</li><li>0</li><li>0</li><li>1</li><li>1</li></ol>\n"
            ],
            "text/markdown": "1. 1\n2. 0\n3. 0\n4. 0\n5. 1\n6. 1\n\n\n",
            "text/latex": "\\begin{enumerate*}\n\\item 1\n\\item 0\n\\item 0\n\\item 0\n\\item 1\n\\item 1\n\\end{enumerate*}\n",
            "text/plain": [
              "[1] 1 0 0 0 1 1"
            ]
          },
          "metadata": {}
        }
      ]
    },
    {
      "cell_type": "code",
      "source": [
        "head(titanic_data)"
      ],
      "metadata": {
        "colab": {
          "base_uri": "https://localhost:8080/",
          "height": 286
        },
        "id": "mbfv5GpwbWch",
        "outputId": "12742700-2373-4a72-d580-ff008840f754"
      },
      "execution_count": 33,
      "outputs": [
        {
          "output_type": "display_data",
          "data": {
            "text/html": [
              "<table class=\"dataframe\">\n",
              "<caption>A data.frame: 6 × 14</caption>\n",
              "<thead>\n",
              "\t<tr><th></th><th scope=col>PassengerId</th><th scope=col>Survived</th><th scope=col>Pclass</th><th scope=col>Name</th><th scope=col>Age</th><th scope=col>SibSp</th><th scope=col>Parch</th><th scope=col>Ticket</th><th scope=col>Fare</th><th scope=col>Sexfemale</th><th scope=col>Sexmale</th><th scope=col>EmbarkedC</th><th scope=col>EmbarkedQ</th><th scope=col>EmbarkedS</th></tr>\n",
              "\t<tr><th></th><th scope=col>&lt;dbl&gt;</th><th scope=col>&lt;dbl&gt;</th><th scope=col>&lt;dbl&gt;</th><th scope=col>&lt;chr&gt;</th><th scope=col>&lt;dbl&gt;</th><th scope=col>&lt;dbl&gt;</th><th scope=col>&lt;dbl&gt;</th><th scope=col>&lt;chr&gt;</th><th scope=col>&lt;dbl&gt;</th><th scope=col>&lt;dbl&gt;</th><th scope=col>&lt;dbl&gt;</th><th scope=col>&lt;dbl&gt;</th><th scope=col>&lt;dbl&gt;</th><th scope=col>&lt;dbl&gt;</th></tr>\n",
              "</thead>\n",
              "<tbody>\n",
              "\t<tr><th scope=row>1</th><td>1</td><td>0</td><td>3</td><td>Braund, Mr. Owen Harris                            </td><td>22.00000</td><td>1</td><td>0</td><td>A/5 21171       </td><td> 7.2500</td><td>0</td><td>1</td><td>0</td><td>0</td><td>1</td></tr>\n",
              "\t<tr><th scope=row>2</th><td>2</td><td>1</td><td>1</td><td>Cumings, Mrs. John Bradley (Florence Briggs Thayer)</td><td>38.00000</td><td>1</td><td>0</td><td>PC 17599        </td><td>71.2833</td><td>1</td><td>0</td><td>1</td><td>0</td><td>0</td></tr>\n",
              "\t<tr><th scope=row>3</th><td>3</td><td>1</td><td>3</td><td>Heikkinen, Miss. Laina                             </td><td>26.00000</td><td>0</td><td>0</td><td>STON/O2. 3101282</td><td> 7.9250</td><td>1</td><td>0</td><td>0</td><td>0</td><td>1</td></tr>\n",
              "\t<tr><th scope=row>4</th><td>4</td><td>1</td><td>1</td><td>Futrelle, Mrs. Jacques Heath (Lily May Peel)       </td><td>35.00000</td><td>1</td><td>0</td><td>113803          </td><td>53.1000</td><td>1</td><td>0</td><td>0</td><td>0</td><td>1</td></tr>\n",
              "\t<tr><th scope=row>5</th><td>5</td><td>0</td><td>3</td><td>Allen, Mr. William Henry                           </td><td>35.00000</td><td>0</td><td>0</td><td>373450          </td><td> 8.0500</td><td>0</td><td>1</td><td>0</td><td>0</td><td>1</td></tr>\n",
              "\t<tr><th scope=row>6</th><td>6</td><td>0</td><td>3</td><td>Moran, Mr. James                                   </td><td>29.69912</td><td>0</td><td>0</td><td>330877          </td><td> 8.4583</td><td>0</td><td>1</td><td>0</td><td>1</td><td>0</td></tr>\n",
              "</tbody>\n",
              "</table>\n"
            ],
            "text/markdown": "\nA data.frame: 6 × 14\n\n| <!--/--> | PassengerId &lt;dbl&gt; | Survived &lt;dbl&gt; | Pclass &lt;dbl&gt; | Name &lt;chr&gt; | Age &lt;dbl&gt; | SibSp &lt;dbl&gt; | Parch &lt;dbl&gt; | Ticket &lt;chr&gt; | Fare &lt;dbl&gt; | Sexfemale &lt;dbl&gt; | Sexmale &lt;dbl&gt; | EmbarkedC &lt;dbl&gt; | EmbarkedQ &lt;dbl&gt; | EmbarkedS &lt;dbl&gt; |\n|---|---|---|---|---|---|---|---|---|---|---|---|---|---|---|\n| 1 | 1 | 0 | 3 | Braund, Mr. Owen Harris                             | 22.00000 | 1 | 0 | A/5 21171        |  7.2500 | 0 | 1 | 0 | 0 | 1 |\n| 2 | 2 | 1 | 1 | Cumings, Mrs. John Bradley (Florence Briggs Thayer) | 38.00000 | 1 | 0 | PC 17599         | 71.2833 | 1 | 0 | 1 | 0 | 0 |\n| 3 | 3 | 1 | 3 | Heikkinen, Miss. Laina                              | 26.00000 | 0 | 0 | STON/O2. 3101282 |  7.9250 | 1 | 0 | 0 | 0 | 1 |\n| 4 | 4 | 1 | 1 | Futrelle, Mrs. Jacques Heath (Lily May Peel)        | 35.00000 | 1 | 0 | 113803           | 53.1000 | 1 | 0 | 0 | 0 | 1 |\n| 5 | 5 | 0 | 3 | Allen, Mr. William Henry                            | 35.00000 | 0 | 0 | 373450           |  8.0500 | 0 | 1 | 0 | 0 | 1 |\n| 6 | 6 | 0 | 3 | Moran, Mr. James                                    | 29.69912 | 0 | 0 | 330877           |  8.4583 | 0 | 1 | 0 | 1 | 0 |\n\n",
            "text/latex": "A data.frame: 6 × 14\n\\begin{tabular}{r|llllllllllllll}\n  & PassengerId & Survived & Pclass & Name & Age & SibSp & Parch & Ticket & Fare & Sexfemale & Sexmale & EmbarkedC & EmbarkedQ & EmbarkedS\\\\\n  & <dbl> & <dbl> & <dbl> & <chr> & <dbl> & <dbl> & <dbl> & <chr> & <dbl> & <dbl> & <dbl> & <dbl> & <dbl> & <dbl>\\\\\n\\hline\n\t1 & 1 & 0 & 3 & Braund, Mr. Owen Harris                             & 22.00000 & 1 & 0 & A/5 21171        &  7.2500 & 0 & 1 & 0 & 0 & 1\\\\\n\t2 & 2 & 1 & 1 & Cumings, Mrs. John Bradley (Florence Briggs Thayer) & 38.00000 & 1 & 0 & PC 17599         & 71.2833 & 1 & 0 & 1 & 0 & 0\\\\\n\t3 & 3 & 1 & 3 & Heikkinen, Miss. Laina                              & 26.00000 & 0 & 0 & STON/O2. 3101282 &  7.9250 & 1 & 0 & 0 & 0 & 1\\\\\n\t4 & 4 & 1 & 1 & Futrelle, Mrs. Jacques Heath (Lily May Peel)        & 35.00000 & 1 & 0 & 113803           & 53.1000 & 1 & 0 & 0 & 0 & 1\\\\\n\t5 & 5 & 0 & 3 & Allen, Mr. William Henry                            & 35.00000 & 0 & 0 & 373450           &  8.0500 & 0 & 1 & 0 & 0 & 1\\\\\n\t6 & 6 & 0 & 3 & Moran, Mr. James                                    & 29.69912 & 0 & 0 & 330877           &  8.4583 & 0 & 1 & 0 & 1 & 0\\\\\n\\end{tabular}\n",
            "text/plain": [
              "  PassengerId Survived Pclass\n",
              "1 1           0        3     \n",
              "2 2           1        1     \n",
              "3 3           1        3     \n",
              "4 4           1        1     \n",
              "5 5           0        3     \n",
              "6 6           0        3     \n",
              "  Name                                                Age      SibSp Parch\n",
              "1 Braund, Mr. Owen Harris                             22.00000 1     0    \n",
              "2 Cumings, Mrs. John Bradley (Florence Briggs Thayer) 38.00000 1     0    \n",
              "3 Heikkinen, Miss. Laina                              26.00000 0     0    \n",
              "4 Futrelle, Mrs. Jacques Heath (Lily May Peel)        35.00000 1     0    \n",
              "5 Allen, Mr. William Henry                            35.00000 0     0    \n",
              "6 Moran, Mr. James                                    29.69912 0     0    \n",
              "  Ticket           Fare    Sexfemale Sexmale EmbarkedC EmbarkedQ EmbarkedS\n",
              "1 A/5 21171         7.2500 0         1       0         0         1        \n",
              "2 PC 17599         71.2833 1         0       1         0         0        \n",
              "3 STON/O2. 3101282  7.9250 1         0       0         0         1        \n",
              "4 113803           53.1000 1         0       0         0         1        \n",
              "5 373450            8.0500 0         1       0         0         1        \n",
              "6 330877            8.4583 0         1       0         1         0        "
            ]
          },
          "metadata": {}
        }
      ]
    },
    {
      "cell_type": "markdown",
      "source": [
        "#Data visualization"
      ],
      "metadata": {
        "id": "ChohDTyydUdI"
      }
    },
    {
      "cell_type": "code",
      "source": [
        "#Carga de librería\n",
        "\n",
        "library(dplyr)\n",
        "library(ggplot2)"
      ],
      "metadata": {
        "id": "ch_VVBv0cjTy"
      },
      "execution_count": 34,
      "outputs": []
    },
    {
      "cell_type": "code",
      "source": [
        "# Resumen estadístico de las variables numéricas\n",
        "summary(titanic_data[, c(\"Age\", \"Fare\")])"
      ],
      "metadata": {
        "colab": {
          "base_uri": "https://localhost:8080/",
          "height": 146
        },
        "id": "lnWrhJ_AdWQE",
        "outputId": "3e53a7c4-96d4-4615-e1c9-bd7cbb2bc189"
      },
      "execution_count": 35,
      "outputs": [
        {
          "output_type": "display_data",
          "data": {
            "text/plain": [
              "      Age             Fare       \n",
              " Min.   : 0.42   Min.   :  0.00  \n",
              " 1st Qu.:22.00   1st Qu.:  7.91  \n",
              " Median :29.70   Median : 14.45  \n",
              " Mean   :29.70   Mean   : 32.20  \n",
              " 3rd Qu.:35.00   3rd Qu.: 31.00  \n",
              " Max.   :80.00   Max.   :512.33  "
            ]
          },
          "metadata": {}
        }
      ]
    },
    {
      "cell_type": "code",
      "source": [
        "# Resumen de las variables categóricas\n",
        "table(titanic_data$Survived)\n",
        "table(titanic_data$Pclass)\n",
        "table(titanic_data$Sex)\n",
        "table(titanic_data$Embarked)"
      ],
      "metadata": {
        "colab": {
          "base_uri": "https://localhost:8080/",
          "height": 165
        },
        "id": "ya101vz3d0js",
        "outputId": "00f2c69b-7b9e-4755-bbc8-b00924c48022"
      },
      "execution_count": 37,
      "outputs": [
        {
          "output_type": "display_data",
          "data": {
            "text/plain": [
              "\n",
              "  0   1 \n",
              "549 342 "
            ]
          },
          "metadata": {}
        },
        {
          "output_type": "display_data",
          "data": {
            "text/plain": [
              "\n",
              "  1   2   3 \n",
              "216 184 491 "
            ]
          },
          "metadata": {}
        },
        {
          "output_type": "display_data",
          "data": {
            "text/plain": [
              "< table of extent 0 >"
            ]
          },
          "metadata": {}
        },
        {
          "output_type": "display_data",
          "data": {
            "text/plain": [
              "< table of extent 0 >"
            ]
          },
          "metadata": {}
        }
      ]
    },
    {
      "cell_type": "code",
      "source": [
        "# Histograma de la edad\n",
        "ggplot(titanic_data, aes(x = Age)) +\n",
        "  geom_histogram(binwidth = 5, fill = \"blue\", color = \"green\") +\n",
        "  labs(title = \"Distribución de Edades\", x = \"Edad\", y = \"Frecuencia\")"
      ],
      "metadata": {
        "colab": {
          "base_uri": "https://localhost:8080/",
          "height": 437
        },
        "id": "T81_5a-xd3r_",
        "outputId": "b88e8319-f65a-4b22-f64a-f3a6665e6722"
      },
      "execution_count": 39,
      "outputs": [
        {
          "output_type": "display_data",
          "data": {
            "text/plain": [
              "plot without title"
            ],
            "image/png": "[encoded data removed]"
          },
          "metadata": {
            "image/png": {
              "width": 420,
              "height": 420
            }
          }
        }
      ]
    },
    {
      "cell_type": "code",
      "source": [
        "# Gráfico de barras de la supervivencia por sexo\n",
        "ggplot(titanic_data, aes(x = Sexmale, fill = factor(Survived))) +\n",
        "  geom_bar() +\n",
        "  labs(title = \"Supervivencia por Sexo\", x = \"Sexo\", y = \"Frecuencia\") +\n",
        "  scale_fill_manual(values = c(\"died\" = \"red\", \"survived\" = \"green\"))"
      ],
      "metadata": {
        "colab": {
          "base_uri": "https://localhost:8080/",
          "height": 437
        },
        "id": "OgbK_CMjeEZF",
        "outputId": "af06a467-7626-492a-f10b-8a9810d83ae1"
      },
      "execution_count": 43,
      "outputs": [
        {
          "output_type": "display_data",
          "data": {
            "text/plain": [
              "plot without title"
            ],
            "image/png": "[encoded data removed]"
          },
          "metadata": {
            "image/png": {
              "width": 420,
              "height": 420
            }
          }
        }
      ]
    },
    {
      "cell_type": "code",
      "source": [
        "# Gráfico de barras de la supervivencia por clase\n",
        "ggplot(titanic_data, aes(x = factor(Pclass), fill = factor(Survived))) +\n",
        "  geom_bar() +\n",
        "  labs(title = \"Supervivencia por Clase\", x = \"Clase\", y = \"Frecuencia\") +\n",
        "  scale_fill_manual(values = c(\"died\" = \"red\", \"survived\" = \"green\"))"
      ],
      "metadata": {
        "colab": {
          "base_uri": "https://localhost:8080/",
          "height": 437
        },
        "id": "ZT6xCUhneRAu",
        "outputId": "35bea605-5213-4ce9-a3c2-f77ad780f3be"
      },
      "execution_count": 44,
      "outputs": [
        {
          "output_type": "display_data",
          "data": {
            "text/plain": [
              "plot without title"
            ],
            "image/png": "[encoded data removed]"
          },
          "metadata": {
            "image/png": {
              "width": 420,
              "height": 420
            }
          }
        }
      ]
    },
    {
      "cell_type": "code",
      "source": [
        "# Gráfico de barras de la supervivencia por puerto de embarque\n",
        "ggplot(titanic_data, aes(x = factor(1))) +\n",
        "  geom_bar(aes(fill = factor(EmbarkedC)), position = \"dodge\") +\n",
        "  geom_bar(aes(fill = factor(EmbarkedQ)), position = \"dodge\") +\n",
        "  geom_bar(aes(fill = factor(EmbarkedS)), position = \"dodge\") +\n",
        "  labs(title = \"Distribución de Pasajeros por Puerto de Embarque\", x = \"Puerto de Embarque\", y = \"Frecuencia\") +\n",
        "  scale_fill_manual(values = c(\"blue\", \"green\", \"red\"), name = \"Puerto\", labels = c(\"C\", \"Q\", \"S\"))"
      ],
      "metadata": {
        "colab": {
          "base_uri": "https://localhost:8080/",
          "height": 437
        },
        "id": "L4wJKrLffeaG",
        "outputId": "074ab522-270f-4b9f-ee08-f20f82c89053"
      },
      "execution_count": 46,
      "outputs": [
        {
          "output_type": "display_data",
          "data": {
            "text/plain": [
              "plot without title"
            ],
            "image/png": "[encoded data removed]"
          },
          "metadata": {
            "image/png": {
              "width": 420,
              "height": 420
            }
          }
        }
      ]
    }
  ]
}